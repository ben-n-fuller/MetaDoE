{
 "cells": [
  {
   "cell_type": "code",
   "execution_count": 2,
   "id": "d8fc074a",
   "metadata": {},
   "outputs": [
    {
     "name": "stderr",
     "output_type": "stream",
     "text": [
      "\u001b[36m\u001b[1m[ \u001b[22m\u001b[39m\u001b[36m\u001b[1mInfo: \u001b[22m\u001b[39mPrecompiling CDDLib [3391f64e-dcde-5f30-b752-e11513730f60] (cache misses: wrong dep version loaded (2))\n"
     ]
    }
   ],
   "source": [
    "using Polyhedra\n",
    "using CDDLib\n",
    "using NPZ\n",
    "\n",
    "include(\"../../src/MetaDoE.jl\")\n",
    "using .MetaDoE: Experiments, ConstraintEnforcement, Constraints, PSO, Objectives, Designs"
   ]
  },
  {
   "cell_type": "code",
   "execution_count": 3,
   "id": "81af39db",
   "metadata": {},
   "outputs": [],
   "source": [
    "N = 1\n",
    "K = 3\n",
    "bound = 100\n",
    "\n",
    "A, b = Constraints.hypercube(K, bound)\n",
    "experiment = Experiments.create(N, K)\n",
    "experiment = Experiments.with_linear_constraints(experiment, A, b)\n",
    "for i in 1:(K-1)\n",
    "    experiment = Experiments.with_factor_ratio(experiment, i, K, 2.0)\n",
    "end"
   ]
  },
  {
   "cell_type": "code",
   "execution_count": 4,
   "id": "fa1e4d37",
   "metadata": {},
   "outputs": [
    {
     "data": {
      "text/plain": [
       "8×3 Matrix{Float64}:\n",
       "  1.0   0.0   0.0\n",
       "  0.0   1.0   0.0\n",
       "  0.0   0.0   1.0\n",
       " -1.0  -0.0  -0.0\n",
       " -0.0  -1.0  -0.0\n",
       " -0.0  -0.0  -1.0\n",
       "  1.0   0.0  -2.0\n",
       "  0.0   1.0  -2.0"
      ]
     },
     "execution_count": 4,
     "metadata": {},
     "output_type": "execute_result"
    }
   ],
   "source": [
    "experiment.constraints.A"
   ]
  },
  {
   "cell_type": "code",
   "execution_count": 5,
   "id": "7c9bde04",
   "metadata": {},
   "outputs": [],
   "source": [
    "# A, b = Constraints.hypercube_constraints(3, 10)"
   ]
  },
  {
   "cell_type": "code",
   "execution_count": 6,
   "id": "d6d7c118",
   "metadata": {},
   "outputs": [],
   "source": [
    "get_vertices = (p) -> collect(points(p))\n",
    "\n",
    "p = polyhedron(hrep(experiment.constraints.A, experiment.constraints.b), CDDLib.Library())\n",
    "verts = get_vertices(p)\n",
    "verts = hcat(verts...)'\n",
    "npzwrite(\"verts.npy\", verts)"
   ]
  }
 ],
 "metadata": {
  "kernelspec": {
   "display_name": "Julia 1.11.4",
   "language": "julia",
   "name": "julia-1.11"
  },
  "language_info": {
   "file_extension": ".jl",
   "mimetype": "application/julia",
   "name": "julia",
   "version": "1.11.4"
  }
 },
 "nbformat": 4,
 "nbformat_minor": 5
}
