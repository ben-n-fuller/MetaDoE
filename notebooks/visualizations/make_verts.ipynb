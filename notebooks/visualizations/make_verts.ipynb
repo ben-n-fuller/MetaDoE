{
 "cells": [
  {
   "cell_type": "code",
   "execution_count": 2,
   "id": "d8fc074a",
   "metadata": {},
   "outputs": [],
   "source": [
    "using Polyhedra\n",
    "using CDDLib\n",
    "using NPZ\n",
    "using LinearAlgebra\n",
    "\n",
    "include(\"../../src/MetaDoE.jl\")\n",
    "using .MetaDoE: Experiments, ConstraintEnforcement, Constraints, PSO, Objectives, Designs"
   ]
  },
  {
   "cell_type": "code",
   "execution_count": 3,
   "id": "81af39db",
   "metadata": {},
   "outputs": [],
   "source": [
    "N = 1\n",
    "K = 3\n",
    "bound = 100\n",
    "\n",
    "A, b = Constraints.hypercube(K, bound)\n",
    "experiment = Experiments.create(N, K)\n",
    "experiment = Experiments.with_linear_constraints(experiment, A, b)\n",
    "for i in 1:(K-1)\n",
    "    experiment = Experiments.with_factor_ratio(experiment, i, K, 2.0)\n",
    "end"
   ]
  },
  {
   "cell_type": "code",
   "execution_count": 4,
   "id": "fa1e4d37",
   "metadata": {},
   "outputs": [
    {
     "data": {
      "text/plain": [
       "8×3 Matrix{Float64}:\n",
       "  1.0   0.0   0.0\n",
       "  0.0   1.0   0.0\n",
       "  0.0   0.0   1.0\n",
       " -1.0  -0.0  -0.0\n",
       " -0.0  -1.0  -0.0\n",
       " -0.0  -0.0  -1.0\n",
       "  1.0   0.0  -2.0\n",
       "  0.0   1.0  -2.0"
      ]
     },
     "execution_count": 4,
     "metadata": {},
     "output_type": "execute_result"
    }
   ],
   "source": [
    "experiment.constraints.A"
   ]
  },
  {
   "cell_type": "code",
   "execution_count": 5,
   "id": "7c9bde04",
   "metadata": {},
   "outputs": [],
   "source": [
    "# A, b = Constraints.hypercube_constraints(3, 10)"
   ]
  },
  {
   "cell_type": "code",
   "execution_count": 3,
   "id": "f6a79381",
   "metadata": {},
   "outputs": [
    {
     "data": {
      "text/plain": [
       "Main.MetaDoE.Experiments.Experiment(Dict(\"4\" => 4, \"1\" => 1, \"2\" => 2, \"3\" => 3), Main.MetaDoE.ConstraintEnforcement.LinearConstraints([-1.0 0.0 0.0 0.0; 0.0 -1.0 0.0 0.0; … ; 0.0 0.0 1.0 0.0; 0.0 0.0 0.0 1.0], [0.0, 0.0, 0.0, 0.0, 1.0, -1.0, -0.2, -0.1, -0.1, -0.15, 0.65, 0.55, 0.2, 0.35]), 10, 4)"
      ]
     },
     "execution_count": 3,
     "metadata": {},
     "output_type": "execute_result"
    }
   ],
   "source": [
    "N = 10\n",
    "K = 4\n",
    "\n",
    "# Simplex constraints\n",
    "A_simp, b_simp = Constraints.simplex(4)\n",
    "\n",
    "# Lower bounds\n",
    "lower_A = -I(4)\n",
    "lower_b = [-0.2 -0.1 -0.1 -0.15]\n",
    "\n",
    "# Upper bounds\n",
    "upper_A = I(4)\n",
    "upper_b = [0.65 0.55 0.2 0.35]\n",
    "bounds = vec(hcat(lower_b, upper_b))\n",
    "\n",
    "# Combine constraints\n",
    "A = Array{Float64}(vcat(A_simp, lower_A, upper_A))\n",
    "b = vcat(b_simp, bounds)\n",
    "\n",
    "experiment = Experiments.create(N, K)\n",
    "experiment = Experiments.with_linear_constraints(experiment, A, b)"
   ]
  },
  {
   "cell_type": "code",
   "execution_count": 3,
   "id": "9687f8dd",
   "metadata": {},
   "outputs": [
    {
     "data": {
      "text/plain": [
       "Main.MetaDoE.Experiments.Experiment(Dict(\"4\" => 4, \"1\" => 1, \"2\" => 2, \"3\" => 3), Main.MetaDoE.ConstraintEnforcement.LinearConstraints([-1.0 0.0 0.0; 0.0 -1.0 0.0; … ; -0.0 -0.0 -1.0; 1.0 1.0 1.0], [0.04999999999999999, 0.15, 0.15, 0.1, 0.4, 0.30000000000000004, -0.04999999999999999, 0.09999999999999998, 0.25, 0.25, 0.25, 0.25]), 12, 4)"
      ]
     },
     "execution_count": 3,
     "metadata": {},
     "output_type": "execute_result"
    }
   ],
   "source": [
    "N = 12\n",
    "K = 4\n",
    "\n",
    "# Lower bounds\n",
    "lower_A = -I(4)\n",
    "lower_b = [-0.2 -0.1 -0.1 -0.15]\n",
    "\n",
    "# Upper bounds\n",
    "upper_A = I(4)\n",
    "upper_b = [0.65 0.55 0.2 0.35]\n",
    "b_bounds = vec(hcat(lower_b, upper_b))\n",
    "\n",
    "# Combine constraints\n",
    "A_bounds = Array{Float64}(vcat(lower_A, upper_A))\n",
    "\n",
    "A, b = Constraints.reparameterize_simplex(A_bounds, b_bounds)\n",
    "\n",
    "experiment = Experiments.create(N, K)\n",
    "experiment = Experiments.with_linear_constraints(experiment, A, b)"
   ]
  },
  {
   "cell_type": "code",
   "execution_count": 9,
   "id": "2f35768b",
   "metadata": {},
   "outputs": [
    {
     "data": {
      "text/plain": [
       "Main.MetaDoE.Experiments.Experiment(Dict(\"1\" => 1, \"2\" => 2, \"3\" => 3), Main.MetaDoE.ConstraintEnforcement.LinearConstraints([0.0 -1.0; -1.0 -1.0; … ; -0.0 -1.0; 1.0 1.0], [0.2333333333333333, 0.26666666666666666, 0.8999999999999999, 2.0, 0.3333333333333333, 0.3333333333333333, 0.3333333333333333]), 12, 3)"
      ]
     },
     "execution_count": 9,
     "metadata": {},
     "output_type": "execute_result"
    }
   ],
   "source": [
    "N = 12\n",
    "K = 3\n",
    "\n",
    "a_2 = [0 -1 0]\n",
    "b_2 = [-1/10]\n",
    "\n",
    "a_3 = [0 0 1]\n",
    "b_3 = [3/5]\n",
    "\n",
    "a_factor_1 = [5 4 0]\n",
    "b_factor_1 = [39/10]\n",
    "\n",
    "a_factor_2 = [-20 5 0]\n",
    "b_factor_2 = [-3]\n",
    "\n",
    "A_og = Array{Float64}(vcat(a_2, a_3, a_factor_1, a_factor_2))\n",
    "b_og = vcat(b_2, b_3, b_factor_1, b_factor_2)\n",
    "\n",
    "A, b = Constraints.reparameterize_simplex(A_og, b_og)\n",
    "\n",
    "experiment = Experiments.create(N, K)\n",
    "experiment = Experiments.with_linear_constraints(experiment, A, b)"
   ]
  },
  {
   "cell_type": "code",
   "execution_count": 10,
   "id": "be93da82",
   "metadata": {},
   "outputs": [
    {
     "data": {
      "text/plain": [
       "7×2 Matrix{Float64}:\n",
       "   0.0  -1.0\n",
       "  -1.0  -1.0\n",
       "   5.0   4.0\n",
       " -20.0   5.0\n",
       "  -1.0  -0.0\n",
       "  -0.0  -1.0\n",
       "   1.0   1.0"
      ]
     },
     "execution_count": 10,
     "metadata": {},
     "output_type": "execute_result"
    }
   ],
   "source": [
    "A"
   ]
  },
  {
   "cell_type": "code",
   "execution_count": 11,
   "id": "e20bf416",
   "metadata": {},
   "outputs": [
    {
     "data": {
      "text/plain": [
       "7-element Vector{Float64}:\n",
       " 0.2333333333333333\n",
       " 0.26666666666666666\n",
       " 0.8999999999999999\n",
       " 2.0\n",
       " 0.3333333333333333\n",
       " 0.3333333333333333\n",
       " 0.3333333333333333"
      ]
     },
     "execution_count": 11,
     "metadata": {},
     "output_type": "execute_result"
    }
   ],
   "source": [
    "b"
   ]
  },
  {
   "cell_type": "code",
   "execution_count": 13,
   "id": "d6d7c118",
   "metadata": {},
   "outputs": [],
   "source": [
    "verts = Constraints.get_vertices(experiment)\n",
    "# verts = hcat(verts...)'\n",
    "npzwrite(\"../data/coetzer_verts_3.npy\", verts)"
   ]
  }
 ],
 "metadata": {
  "kernelspec": {
   "display_name": "Julia 1.11.4",
   "language": "julia",
   "name": "julia-1.11"
  },
  "language_info": {
   "file_extension": ".jl",
   "mimetype": "application/julia",
   "name": "julia",
   "version": "1.11.4"
  }
 },
 "nbformat": 4,
 "nbformat_minor": 5
}
