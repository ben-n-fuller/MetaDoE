{
 "cells": [
  {
   "cell_type": "code",
   "execution_count": 9,
   "id": "d8fc074a",
   "metadata": {},
   "outputs": [
    {
     "name": "stderr",
     "output_type": "stream",
     "text": [
      "WARNING: replacing module MetaDoE.\n",
      "WARNING: ignoring conflicting import of MetaDoE.Constraints into Main\n"
     ]
    }
   ],
   "source": [
    "using Polyhedra\n",
    "using CDDLib\n",
    "using NPZ\n",
    "\n",
    "include(\"../../src/MetaDoE.jl\")\n",
    "using .MetaDoE: Constraints"
   ]
  },
  {
   "cell_type": "code",
   "execution_count": 7,
   "id": "7c9bde04",
   "metadata": {},
   "outputs": [
    {
     "data": {
      "text/plain": [
       "([1.0 0.0 0.0; 0.0 1.0 0.0; … ; -0.0 -1.0 -0.0; -0.0 -0.0 -1.0], [10.0, 10.0, 10.0, 10.0, 10.0, 10.0])"
      ]
     },
     "execution_count": 7,
     "metadata": {},
     "output_type": "execute_result"
    }
   ],
   "source": [
    "A, b = Constraints.hypercube_constraints(3, 10)"
   ]
  },
  {
   "cell_type": "code",
   "execution_count": 10,
   "id": "d6d7c118",
   "metadata": {},
   "outputs": [],
   "source": [
    "get_vertices = (p) -> collect(points(p))\n",
    "\n",
    "p = polyhedron(hrep(A, b), CDDLib.Library())\n",
    "verts = get_vertices(p)\n",
    "verts = hcat(verts...)'\n",
    "npzwrite(\"verts.npy\", verts)"
   ]
  }
 ],
 "metadata": {
  "kernelspec": {
   "display_name": "Julia 1.11.4",
   "language": "julia",
   "name": "julia-1.11"
  },
  "language_info": {
   "file_extension": ".jl",
   "mimetype": "application/julia",
   "name": "julia",
   "version": "1.11.4"
  }
 },
 "nbformat": 4,
 "nbformat_minor": 5
}
