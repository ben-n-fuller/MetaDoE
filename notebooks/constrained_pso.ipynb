{
 "cells": [
  {
   "cell_type": "code",
   "execution_count": 8,
   "metadata": {},
   "outputs": [
    {
     "name": "stderr",
     "output_type": "stream",
     "text": [
      "WARNING: replacing module HitAndRun.\n",
      "WARNING: ignoring conflicting import of HitAndRun.hit_and_run into Main\n"
     ]
    }
   ],
   "source": [
    "include(\"./hit_and_run.jl\")\n",
    "using .HitAndRun: hit_and_run\n",
    "using Polyhedra\n",
    "using HiGHS\n",
    "using LinearAlgebra"
   ]
  },
  {
   "cell_type": "code",
   "execution_count": 4,
   "metadata": {},
   "outputs": [
    {
     "data": {
      "text/plain": [
       "unit_hypercube_constraints (generic function with 1 method)"
      ]
     },
     "execution_count": 4,
     "metadata": {},
     "output_type": "execute_result"
    }
   ],
   "source": [
    "function unit_hypercube_constraints(d)\n",
    "    A = [ Matrix(I, d, d); -Matrix(I, d, d) ]\n",
    "    b = [ ones(d); zeros(d) ]\n",
    "    return A, b\n",
    "end"
   ]
  },
  {
   "cell_type": "code",
   "execution_count": null,
   "metadata": {},
   "outputs": [],
   "source": [
    "lib = DefaultLibrary{Float64}(HiGHS.Optimizer)\n",
    "A, b = unit_hypercube_constraints(4)\n",
    "samples = hit_and_run(A, b, 1000, lib; burnin=1000)"
   ]
  }
 ],
 "metadata": {
  "kernelspec": {
   "display_name": "Julia 1.11.4",
   "language": "julia",
   "name": "julia-1.11"
  },
  "language_info": {
   "file_extension": ".jl",
   "mimetype": "application/julia",
   "name": "julia",
   "version": "1.11.4"
  }
 },
 "nbformat": 4,
 "nbformat_minor": 2
}
