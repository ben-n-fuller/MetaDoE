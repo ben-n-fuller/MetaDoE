{
 "cells": [
  {
   "cell_type": "markdown",
   "metadata": {},
   "source": [
    "# Overview\n",
    "This notebook will implement the so-called \"alphabet\" objective criteria for standard design of experiments optimization. "
   ]
  },
  {
   "cell_type": "code",
   "execution_count": 73,
   "metadata": {},
   "outputs": [
    {
     "name": "stderr",
     "output_type": "stream",
     "text": [
      "WARNING: replacing module MetaDoE.\n",
      "WARNING: ignoring conflicting import of MetaDoE.Models into Main\n",
      "WARNING: ignoring conflicting import of MetaDoE.Designs into Main\n"
     ]
    }
   ],
   "source": [
    "include(\"./src/MetaDoE.jl\")\n",
    "using .MetaDoE: Models, Designs, HitAndRun"
   ]
  },
  {
   "cell_type": "code",
   "execution_count": 22,
   "metadata": {},
   "outputs": [],
   "source": [
    "using Random \n",
    "using LinearAlgebra"
   ]
  },
  {
   "cell_type": "code",
   "execution_count": 111,
   "metadata": {},
   "outputs": [
    {
     "data": {
      "text/plain": [
       "G (generic function with 1 method)"
      ]
     },
     "execution_count": 111,
     "metadata": {},
     "output_type": "execute_result"
    }
   ],
   "source": [
    "function g_eval(F, S)\n",
    "    M = F' * F\n",
    "    L = cholesky(M).L\n",
    "\n",
    "    Y = L \\ transpose(S)\n",
    "    return sum(abs2, Y; dims=1)'\n",
    "end\n",
    "\n",
    "function G(F, S, model_expansion)\n",
    "    map(x -> G_mat(x, S, model_expansion), eachslice(F, dims=1))\n",
    "end"
   ]
  },
  {
   "cell_type": "code",
   "execution_count": 112,
   "metadata": {},
   "outputs": [
    {
     "data": {
      "text/plain": [
       "make_g_criterion (generic function with 1 method)"
      ]
     },
     "execution_count": 112,
     "metadata": {},
     "output_type": "execute_result"
    }
   ],
   "source": [
    "function make_g_criterion(N, K, init, model_expansion; n = 1000)\n",
    "    S = reshape(init(Int(n / N)), n, K)\n",
    "    function g_criterion(F)\n",
    "        return G(F, S, model_expansion)\n",
    "    end\n",
    "    return g_criterion\n",
    "end"
   ]
  },
  {
   "cell_type": "code",
   "execution_count": null,
   "metadata": {},
   "outputs": [],
   "source": []
  },
  {
   "cell_type": "code",
   "execution_count": 113,
   "metadata": {},
   "outputs": [
    {
     "data": {
      "text/plain": [
       "(::Main.MetaDoE.Models.var\"#model_builder#19\"{Int64, Int64, Bool, Vector{Any}, Bool, Bool}) (generic function with 1 method)"
      ]
     },
     "execution_count": 113,
     "metadata": {},
     "output_type": "execute_result"
    }
   ],
   "source": [
    "N = 100\n",
    "K = 20\n",
    "n = 1000\n",
    "initializer = Designs.hypercube_initializer(100, 20)\n",
    "model = Models.linear"
   ]
  },
  {
   "cell_type": "code",
   "execution_count": 114,
   "metadata": {},
   "outputs": [
    {
     "ename": "LoadError",
     "evalue": "DimensionMismatch: B has first dimension 21000 but needs 21",
     "output_type": "error",
     "traceback": [
      "DimensionMismatch: B has first dimension 21000 but needs 21",
      "",
      "Stacktrace:",
      "  [1] trtrs!(uplo::Char, trans::Char, diag::Char, A::Matrix{Float64}, B::Vector{Float64})",
      "    @ LinearAlgebra.LAPACK ~/.julia/juliaup/julia-1.11.4+0.x64.linux.gnu/share/julia/stdlib/v1.11/LinearAlgebra/src/lapack.jl:3623",
      "  [2] generic_trimatdiv!",
      "    @ ~/.julia/juliaup/julia-1.11.4+0.x64.linux.gnu/share/julia/stdlib/v1.11/LinearAlgebra/src/triangular.jl:1056 [inlined]",
      "  [3] _ldiv!",
      "    @ ~/.julia/juliaup/julia-1.11.4+0.x64.linux.gnu/share/julia/stdlib/v1.11/LinearAlgebra/src/triangular.jl:966 [inlined]",
      "  [4] ldiv!",
      "    @ ~/.julia/juliaup/julia-1.11.4+0.x64.linux.gnu/share/julia/stdlib/v1.11/LinearAlgebra/src/triangular.jl:959 [inlined]",
      "  [5] \\(A::LowerTriangular{Float64, Matrix{Float64}}, B::Vector{Float64})",
      "    @ LinearAlgebra ~/.julia/juliaup/julia-1.11.4+0.x64.linux.gnu/share/julia/stdlib/v1.11/LinearAlgebra/src/triangular.jl:1721",
      "  [6] G_mat(F::SubArray{Float64, 2, Array{Float64, 3}, Tuple{Int64, Base.Slice{Base.OneTo{Int64}}, Base.Slice{Base.OneTo{Int64}}}, true}, S::Matrix{Float64}, model_expansion::Main.MetaDoE.Models.var\"#model_builder#19\"{Int64, Int64, Bool, Vector{Any}, Bool, Bool})",
      "    @ Main ./In[101]:8",
      "  [7] #21",
      "    @ ./In[111]:10 [inlined]",
      "  [8] iterate",
      "    @ ./generator.jl:48 [inlined]",
      "  [9] _collect(c::Slices{Array{Float64, 3}, Tuple{Int64, Colon, Colon}, Tuple{Base.OneTo{Int64}}, SubArray{Float64, 2, Array{Float64, 3}, Tuple{Int64, Base.Slice{Base.OneTo{Int64}}, Base.Slice{Base.OneTo{Int64}}}, true}, 1}, itr::Base.Generator{Slices{Array{Float64, 3}, Tuple{Int64, Colon, Colon}, Tuple{Base.OneTo{Int64}}, SubArray{Float64, 2, Array{Float64, 3}, Tuple{Int64, Base.Slice{Base.OneTo{Int64}}, Base.Slice{Base.OneTo{Int64}}}, true}, 1}, var\"#21#22\"{Matrix{Float64}, Main.MetaDoE.Models.var\"#model_builder#19\"{Int64, Int64, Bool, Vector{Any}, Bool, Bool}}}, ::Base.EltypeUnknown, isz::Base.HasShape{1})",
      "    @ Base ./array.jl:811",
      " [10] collect_similar",
      "    @ ./array.jl:720 [inlined]",
      " [11] map",
      "    @ ./abstractarray.jl:3371 [inlined]",
      " [12] G",
      "    @ ./In[111]:10 [inlined]",
      " [13] (::var\"#g_criterion#24\"{Main.MetaDoE.Models.var\"#model_builder#19\"{Int64, Int64, Bool, Vector{Any}, Bool, Bool}, Matrix{Float64}})(F::Array{Float64, 3})",
      "    @ Main ./In[112]:4",
      " [14] top-level scope",
      "    @ In[114]:5"
     ]
    }
   ],
   "source": [
    "score = A(F)\n",
    "score2 = D(F)\n",
    "\n",
    "g_crit = make_g_criterion(N, K, initializer, model; n=n)\n",
    "score3 = g_crit(F)\n",
    "\n",
    "println(\"A: \", score)\n",
    "println(\"D: \", score2)\n",
    "println(\"G: \", score3)"
   ]
  },
  {
   "cell_type": "code",
   "execution_count": null,
   "metadata": {},
   "outputs": [],
   "source": []
  },
  {
   "cell_type": "code",
   "execution_count": null,
   "metadata": {},
   "outputs": [],
   "source": []
  }
 ],
 "metadata": {
  "kernelspec": {
   "display_name": "Julia 1.11.4",
   "language": "julia",
   "name": "julia-1.11"
  },
  "language_info": {
   "file_extension": ".jl",
   "mimetype": "application/julia",
   "name": "julia",
   "version": "1.11.4"
  }
 },
 "nbformat": 4,
 "nbformat_minor": 2
}
