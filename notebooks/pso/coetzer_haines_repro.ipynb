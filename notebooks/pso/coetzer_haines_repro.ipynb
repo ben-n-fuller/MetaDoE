{
 "cells": [
  {
   "cell_type": "code",
   "execution_count": 2,
   "metadata": {},
   "outputs": [],
   "source": [
    "using LinearAlgebra\n",
    "include(\"../../src/MetaDoE.jl\")\n",
    "using .MetaDoE: Constraints"
   ]
  },
  {
   "cell_type": "code",
   "execution_count": 4,
   "metadata": {},
   "outputs": [
    {
     "data": {
      "text/plain": [
       "([-1.0 0.0 0.0 0.0; 0.0 -1.0 0.0 0.0; … ; 1.0 1.0 1.0 1.0; -1.0 -1.0 -1.0 -1.0], [0.0, 0.0, 0.0, 0.0, 1.0, -1.0])"
      ]
     },
     "execution_count": 4,
     "metadata": {},
     "output_type": "execute_result"
    }
   ],
   "source": [
    "A, b = Constraints.simplex(4)"
   ]
  },
  {
   "cell_type": "code",
   "execution_count": 5,
   "metadata": {},
   "outputs": [
    {
     "data": {
      "text/plain": [
       "6×4 Matrix{Float64}:\n",
       " -1.0   0.0   0.0   0.0\n",
       "  0.0  -1.0   0.0   0.0\n",
       "  0.0   0.0  -1.0   0.0\n",
       "  0.0   0.0   0.0  -1.0\n",
       "  1.0   1.0   1.0   1.0\n",
       " -1.0  -1.0  -1.0  -1.0"
      ]
     },
     "execution_count": 5,
     "metadata": {},
     "output_type": "execute_result"
    }
   ],
   "source": [
    "A"
   ]
  }
 ],
 "metadata": {
  "kernelspec": {
   "display_name": "Julia 1.11.4",
   "language": "julia",
   "name": "julia-1.11"
  },
  "language_info": {
   "file_extension": ".jl",
   "mimetype": "application/julia",
   "name": "julia",
   "version": "1.11.4"
  }
 },
 "nbformat": 4,
 "nbformat_minor": 2
}
