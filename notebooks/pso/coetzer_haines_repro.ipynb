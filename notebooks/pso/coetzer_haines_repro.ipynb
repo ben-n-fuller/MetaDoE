{
 "cells": [
  {
   "cell_type": "code",
   "execution_count": null,
   "metadata": {},
   "outputs": [],
   "source": [
    "using LinearAlgebra\n",
    "include(\"../../src/MetaDoE.jl\")\n",
    "using .MetaDoE: Constraints"
   ]
  },
  {
   "cell_type": "code",
   "execution_count": null,
   "metadata": {},
   "outputs": [
    {
     "ename": "LoadError",
     "evalue": "invalid redefinition of constant Main.simplex_constraints",
     "output_type": "error",
     "traceback": [
      "invalid redefinition of constant Main.simplex_constraints",
      "",
      "Stacktrace:",
      " [1] top-level scope",
      "   @ In[59]:1"
     ]
    }
   ],
   "source": [
    "simplex_constraints = Constraints.simplex(4)"
   ]
  },
  {
   "cell_type": "code",
   "execution_count": 56,
   "metadata": {},
   "outputs": [
    {
     "data": {
      "text/plain": [
       "([-1.0 0.0 0.0; 0.0 -1.0 0.0; … ; 1.0 1.0 1.0; -1.0 -1.0 -1.0], [0.0, 0.0, 0.0, 1.0, -1.0])"
      ]
     },
     "execution_count": 56,
     "metadata": {},
     "output_type": "execute_result"
    }
   ],
   "source": [
    "A, b = simplex_constraints(3)"
   ]
  }
 ],
 "metadata": {
  "kernelspec": {
   "display_name": "Julia 1.11.4",
   "language": "julia",
   "name": "julia-1.11"
  },
  "language_info": {
   "file_extension": ".jl",
   "mimetype": "application/julia",
   "name": "julia",
   "version": "1.11.4"
  }
 },
 "nbformat": 4,
 "nbformat_minor": 2
}
