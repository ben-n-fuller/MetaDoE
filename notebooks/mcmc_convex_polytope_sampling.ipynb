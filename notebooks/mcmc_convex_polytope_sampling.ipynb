{
 "cells": [
  {
   "cell_type": "markdown",
   "metadata": {},
   "source": [
    "- PSO optimization for continuous designs using the $F'WF$, where $W$ is a diagonal weights matrix\n",
    "- Include process variables?"
   ]
  },
  {
   "cell_type": "markdown",
   "metadata": {},
   "source": [
    "# Overview\n",
    "\n",
    "This notebook will explore the MCMC hit-and-run approach for generating random samples inside a potentiall high-dimensional convex polytope defined by a set of linear constraints. The general algorithm is as follows:\n",
    "\n",
    "1. Generate a random point inside the feasible region (this is NP-hard, probably using rejection sampling is the only option)\n",
    "2. Choose a random direction inside the space by sampling uniformly over the surface of an `n`-dimensional hypersphere\n",
    "3. Project a line from the sampled point to the intersection with the boundary of the polytope in the direction chosen in step 2\n",
    "4. Sample from a uniform distribution along this line. This is the next sample\n",
    "5. Repeat using the newly sampled point\n",
    "6. After a burn period mixing will occur and the sampled points will approximate the target distribution"
   ]
  },
  {
   "cell_type": "code",
   "execution_count": 3,
   "metadata": {},
   "outputs": [],
   "source": [
    "using Polyhedra\n",
    "using CDDLib\n",
    "using LinearAlgebra"
   ]
  },
  {
   "cell_type": "markdown",
   "metadata": {},
   "source": [
    "# Represent Polytopes Using Linear Inequalities\n",
    "First we need to define the constraints for an H-Space representation of the simplex and hypercube, in other words, as the intersection of a set of linear inequalities and equalities defining half-spaces and hyperplanes. For now we can focus on the unconstrained cases for the standard $(n-1)$ -simplex, and the standard hypercube. "
   ]
  },
  {
   "cell_type": "code",
   "execution_count": 1,
   "metadata": {},
   "outputs": [
    {
     "data": {
      "text/plain": [
       "#7 (generic function with 1 method)"
      ]
     },
     "execution_count": 1,
     "metadata": {},
     "output_type": "execute_result"
    }
   ],
   "source": [
    "function generate_simplex_polyhedron(n)\n",
    "    coords = -I(n+1)\n",
    "    non_neg_constraints = map(ax -> HalfSpace(coords[ax, :], 0.0), axes(coords, 1))\n",
    "    simplex_constraint = HyperPlane(ones(n+1), 1.0)\n",
    "    all_constraints = reduce(intersect, non_neg_constraints) ∩ simplex_constraint\n",
    "    return polyhedron(all_constraints, CDDLib.Library())\n",
    "end\n",
    "\n",
    "function generate_hypercube_polyhedron(n)\n",
    "    coords = I(n)\n",
    "    upper_bound_constraints = map(ax -> HalfSpace(-coords[ax, :], 1.0), axes(coords, 1))\n",
    "    lower_bound_constraints = map(ax -> HalfSpace(coords[ax, :], 1.0), axes(coords, 1))\n",
    "    all_constraints = cat(upper_bound_constraints, lower_bound_constraints, dims=1)\n",
    "    all_constraints = reduce(intersect, all_constraints)\n",
    "    return polyhedron(all_constraints, CDDLib.Library())\n",
    "end\n",
    "\n",
    "get_vertices = (p) -> collect(points(p))"
   ]
  },
  {
   "cell_type": "code",
   "execution_count": 9,
   "metadata": {},
   "outputs": [
    {
     "data": {
      "text/plain": [
       "5-element Vector{Vector{Float64}}:\n",
       " [0.0, 0.0, 0.0, 0.0, 1.0]\n",
       " [0.0, 0.0, 0.0, 1.0, 0.0]\n",
       " [0.0, 0.0, 1.0, 0.0, 0.0]\n",
       " [0.0, 1.0, 0.0, 0.0, 0.0]\n",
       " [1.0, 0.0, 0.0, 0.0, 0.0]"
      ]
     },
     "execution_count": 9,
     "metadata": {},
     "output_type": "execute_result"
    }
   ],
   "source": [
    "# H-space representation\n",
    "simplex = generate_simplex_polyhedron(4)\n",
    "\n",
    "# V-space representation\n",
    "get_vertices(simplex)"
   ]
  },
  {
   "cell_type": "code",
   "execution_count": 7,
   "metadata": {},
   "outputs": [
    {
     "data": {
      "text/plain": [
       "16-element Vector{Vector{Float64}}:\n",
       " [1.0, -1.0, -1.0, -1.0]\n",
       " [1.0, -1.0, -1.0, 1.0]\n",
       " [1.0, -1.0, 1.0, -1.0]\n",
       " [1.0, -1.0, 1.0, 1.0]\n",
       " [1.0, 1.0, 1.0, -1.0]\n",
       " [1.0, 1.0, 1.0, 1.0]\n",
       " [1.0, 1.0, -1.0, 1.0]\n",
       " [1.0, 1.0, -1.0, -1.0]\n",
       " [-1.0, 1.0, 1.0, 1.0]\n",
       " [-1.0, 1.0, 1.0, -1.0]\n",
       " [-1.0, 1.0, -1.0, 1.0]\n",
       " [-1.0, 1.0, -1.0, -1.0]\n",
       " [-1.0, -1.0, 1.0, 1.0]\n",
       " [-1.0, -1.0, 1.0, -1.0]\n",
       " [-1.0, -1.0, -1.0, 1.0]\n",
       " [-1.0, -1.0, -1.0, -1.0]"
      ]
     },
     "execution_count": 7,
     "metadata": {},
     "output_type": "execute_result"
    }
   ],
   "source": [
    "hypercube = generate_hypercube_polyhedron(4)\n",
    "get_vertices(hypercube)"
   ]
  },
  {
   "cell_type": "code",
   "execution_count": 7,
   "metadata": {},
   "outputs": [
    {
     "data": {
      "text/plain": [
       "H-representation CDDInequalityMatrix{Float64, Float64}:\n",
       "1-element iterator of HyperPlane{Float64, Vector{Float64}}:\n",
       " HyperPlane([1.0, 1.0, 1.0], 1.0),\n",
       "3-element iterator of HalfSpace{Float64, Vector{Float64}}:\n",
       " HalfSpace([-1.0, 0.0, 0.0], 0.0)\n",
       " HalfSpace([0.0, -1.0, 0.0], 0.0)\n",
       " HalfSpace([0.0, 0.0, -1.0], 0.0)"
      ]
     },
     "execution_count": 7,
     "metadata": {},
     "output_type": "execute_result"
    }
   ],
   "source": [
    "hrep(simplex)"
   ]
  },
  {
   "cell_type": "code",
   "execution_count": 8,
   "metadata": {},
   "outputs": [
    {
     "data": {
      "text/plain": [
       "V-representation CDDGeneratorMatrix{Float64, Float64}:\n",
       "3-element iterator of Vector{Float64}:\n",
       " [0.0, 0.0, 1.0]\n",
       " [0.0, 1.0, 0.0]\n",
       " [1.0, 0.0, 0.0]"
      ]
     },
     "execution_count": 8,
     "metadata": {},
     "output_type": "execute_result"
    }
   ],
   "source": [
    "vrep(simplex)"
   ]
  },
  {
   "cell_type": "markdown",
   "metadata": {},
   "source": [
    "# Sample from Hypersphere\n",
    "We need to sample from an $n$-dimensional sphere to get a random direction in which to travel for taking our sample."
   ]
  },
  {
   "cell_type": "code",
   "execution_count": null,
   "metadata": {},
   "outputs": [
    {
     "data": {
      "text/plain": [
       "sample_random_direction (generic function with 1 method)"
      ]
     },
     "execution_count": 9,
     "metadata": {},
     "output_type": "execute_result"
    }
   ],
   "source": [
    "# Generate num_samples samples uniformly distributed over the surface of the unit n-dim hypersphere\n",
    "function sample_random_direction(num_samples, n)\n",
    "    v = randn(num_samples, n)\n",
    "    return v ./ norm.(eachrow(v))\n",
    "end"
   ]
  },
  {
   "cell_type": "markdown",
   "metadata": {},
   "source": [
    "# Find Active Bounds by Computing Intersection\n",
    "We need to be able to solve for the intersection of the ray from our current sampled point in the feasible region along the sampled direction vector with the nearest face of the bounding polyhedron."
   ]
  },
  {
   "cell_type": "code",
   "execution_count": 19,
   "metadata": {},
   "outputs": [
    {
     "data": {
      "text/plain": [
       "((4, 3), (3,), (4,))"
      ]
     },
     "execution_count": 19,
     "metadata": {},
     "output_type": "execute_result"
    }
   ],
   "source": [
    "# Define simplex constraints\n",
    "A = [0 0 -1; 0 -1 0; -1 0 0; 1 1 1]\n",
    "b = [0, 0, 0, 1]\n",
    "\n",
    "# Define direction vector and current point\n",
    "v = [1/3, 1/3, 1/3]\n",
    "d = sample_random_direction(2, 3)[1,:]\n",
    "\n",
    "size(A), size(v), size(b)"
   ]
  },
  {
   "cell_type": "code",
   "execution_count": 20,
   "metadata": {},
   "outputs": [
    {
     "data": {
      "text/plain": [
       "get_bounds (generic function with 1 method)"
      ]
     },
     "execution_count": 20,
     "metadata": {},
     "output_type": "execute_result"
    }
   ],
   "source": [
    "# Provides bounds for t in a parameterized line v + td inside the polytope defined by Ax <= b\n",
    "function get_bounds(A, b, v, d)\n",
    "    unscaled_bounds = (b .- (A * v))[:, 1]\n",
    "    scale_factors = (A * d)[:, 1]\n",
    "    bounds = unscaled_bounds ./ scale_factors\n",
    "\n",
    "    # We only care about bounds in the positive direction from our current point\n",
    "    return minimum(bounds[scale_factors .> 0])\n",
    "end"
   ]
  },
  {
   "cell_type": "code",
   "execution_count": 22,
   "metadata": {},
   "outputs": [
    {
     "data": {
      "text/plain": [
       "Polyhedron CDDLib.Polyhedron{Float64}:\n",
       "1-element iterator of HyperPlane{Float64, Vector{Float64}}:\n",
       " HyperPlane([1.0, 1.0, 1.0], 1.0),\n",
       "3-element iterator of HalfSpace{Float64, Vector{Float64}}:\n",
       " HalfSpace([-1.0, 0.0, 0.0], 0.0)\n",
       " HalfSpace([0.0, -1.0, 0.0], 0.0)\n",
       " HalfSpace([0.0, 0.0, -1.0], 0.0)"
      ]
     },
     "execution_count": 22,
     "metadata": {},
     "output_type": "execute_result"
    }
   ],
   "source": [
    "generate_simplex_polyhedron(3)"
   ]
  },
  {
   "cell_type": "code",
   "execution_count": 21,
   "metadata": {},
   "outputs": [
    {
     "data": {
      "text/plain": [
       "Polyhedron CDDLib.Polyhedron{Float64}:\n",
       "1-element iterator of HyperPlane{Float64, Vector{Float64}}:\n",
       " HyperPlane([1.0, 1.0, 1.0], 1.0),\n",
       "3-element iterator of HalfSpace{Float64, Vector{Float64}}:\n",
       " HalfSpace([0.0, 0.0, -1.0], 0.0)\n",
       " HalfSpace([0.0, -1.0, 0.0], 0.0)\n",
       " HalfSpace([-1.0, 0.0, 0.0], 0.0)"
      ]
     },
     "execution_count": 21,
     "metadata": {},
     "output_type": "execute_result"
    }
   ],
   "source": [
    "p = polyhedron(hrep(A, b, BitSet([4])), CDDLib.Library())"
   ]
  },
  {
   "cell_type": "code",
   "execution_count": 34,
   "metadata": {},
   "outputs": [
    {
     "data": {
      "text/plain": [
       "Polyhedron CDDLib.Polyhedron{Float64}:\n",
       "2-element iterator of HyperPlane{Float64, Vector{Float64}}:\n",
       " HyperPlane([1.0, 1.0, 1.0], 1.0)\n",
       " HyperPlane([1.0, 1.0, 1.0], 1.0),\n",
       "6-element iterator of HalfSpace{Float64, Vector{Float64}}:\n",
       " HalfSpace([0.0, 0.0, -1.0], 0.0)\n",
       " HalfSpace([0.0, -1.0, 0.0], 0.0)\n",
       " HalfSpace([-1.0, 0.0, 0.0], 0.0)\n",
       " HalfSpace([0.0, 0.0, -1.0], 0.0)\n",
       " HalfSpace([0.0, -1.0, 0.0], 0.0)\n",
       " HalfSpace([-1.0, 0.0, 0.0], 0.0)"
      ]
     },
     "execution_count": 34,
     "metadata": {},
     "output_type": "execute_result"
    }
   ],
   "source": []
  },
  {
   "cell_type": "markdown",
   "metadata": {},
   "source": [
    "# Hit and Run\n",
    "What I want is a function that takes an H-Space representation of a convex polytope and repeatedly applies the hit-and-run MCMC algorithm to generate a set of random samples from the space."
   ]
  },
  {
   "cell_type": "code",
   "execution_count": null,
   "metadata": {},
   "outputs": [
    {
     "data": {
      "text/plain": [
       "hit_and_run (generic function with 1 method)"
      ]
     },
     "execution_count": 16,
     "metadata": {},
     "output_type": "execute_result"
    }
   ],
   "source": [
    "# For polytope Ax <= b,\n",
    "# Run h&r n times inside the polytope starting from vector v\n",
    "function hit_and_run(A, b, v, n)\n",
    "    n_size = length(v)\n",
    "\n",
    "    # Get n random directions\n",
    "    rand_directions = sample_random_direction(n, n_size)\n",
    "    \n",
    "    samples = zeros(n, n_size)\n",
    "    for i in 1:n\n",
    "        d = rand_directions[i, :]\n",
    "        t_max = get_bounds(A, b, v, d)\n",
    "        t = rand() * t_max\n",
    "        sample = v + t .* d\n",
    "        samples[i, :] = sample\n",
    "        v = sample\n",
    "    end\n",
    "\n",
    "    return samples\n",
    "end "
   ]
  },
  {
   "cell_type": "code",
   "execution_count": 30,
   "metadata": {},
   "outputs": [
    {
     "data": {
      "text/plain": [
       "hit_and_run (generic function with 2 methods)"
      ]
     },
     "execution_count": 30,
     "metadata": {},
     "output_type": "execute_result"
    }
   ],
   "source": [
    "function rejection_sample(A, b)\n",
    "    N, n = size(A)\n",
    "    satisfies = false \n",
    "    x = ones(n)\n",
    "    while satisfies == false\n",
    "        x = rand(n)\n",
    "        satisfies = sum((A * x) .<= b) == N\n",
    "    end\n",
    "    return x \n",
    "end\n",
    "\n",
    "function hit_and_run(A, b, n)\n",
    "    initial_sample = rejection_sample(A, b)\n",
    "    return hit_and_run(A, b, initial_sample, n)\n",
    "end"
   ]
  },
  {
   "cell_type": "code",
   "execution_count": 29,
   "metadata": {},
   "outputs": [
    {
     "data": {
      "text/plain": [
       "4"
      ]
     },
     "execution_count": 29,
     "metadata": {},
     "output_type": "execute_result"
    }
   ],
   "source": [
    "size(A, 1)"
   ]
  },
  {
   "cell_type": "code",
   "execution_count": 31,
   "metadata": {},
   "outputs": [
    {
     "data": {
      "text/plain": [
       "3-element Vector{Float64}:\n",
       " 0.20350048161984513\n",
       " 0.18175320023665054\n",
       " 0.21367003128489115"
      ]
     },
     "execution_count": 31,
     "metadata": {},
     "output_type": "execute_result"
    }
   ],
   "source": [
    "rejection_sample(A, b)"
   ]
  },
  {
   "cell_type": "code",
   "execution_count": 23,
   "metadata": {},
   "outputs": [
    {
     "data": {
      "text/plain": [
       "10×3 Matrix{Float64}:\n",
       "  0.220943    0.497561   0.929175\n",
       "  0.202802    0.2897     0.815535\n",
       " -1.0157      1.01191    1.02129\n",
       " -0.41007    -3.85039   -1.0201\n",
       " -2.81509    -4.22228   -0.463554\n",
       " -2.93231    -5.60407   -0.187843\n",
       " -0.0458197  -3.06527    0.611752\n",
       "  1.26079    -1.2695    -0.516996\n",
       "  0.917946   -0.844341   0.682753\n",
       "  0.921709   -0.835595   0.680533"
      ]
     },
     "metadata": {},
     "output_type": "display_data"
    }
   ],
   "source": [
    "hit_and_run(A, b, 10)"
   ]
  },
  {
   "cell_type": "markdown",
   "metadata": {},
   "source": [
    "# Validation\n",
    "At the very least, the arithmetic mean of the sample should be close to the centroid of the polytope. "
   ]
  },
  {
   "cell_type": "code",
   "execution_count": 73,
   "metadata": {},
   "outputs": [
    {
     "data": {
      "text/plain": [
       "3-element Vector{Float64}:\n",
       " 0.3333333333333333\n",
       " 0.3333333333333333\n",
       " 0.3333333333333333"
      ]
     },
     "metadata": {},
     "output_type": "display_data"
    }
   ],
   "source": [
    "vertices = get_vertices(simplex)\n",
    "centroid = sum(vertices) / length(vertices)"
   ]
  },
  {
   "cell_type": "code",
   "execution_count": 30,
   "metadata": {},
   "outputs": [
    {
     "data": {
      "text/plain": [
       "3-element Vector{Vector{Float64}}:\n",
       " [0.0, 0.0, 1.0]\n",
       " [0.0, 1.0, 0.0]\n",
       " [1.0, 0.0, 0.0]"
      ]
     },
     "metadata": {},
     "output_type": "display_data"
    }
   ],
   "source": [
    "vertices"
   ]
  },
  {
   "cell_type": "code",
   "execution_count": 27,
   "metadata": {},
   "outputs": [
    {
     "data": {
      "text/plain": [
       "1000×3 Matrix{Float64}:\n",
       " 0.333333    0.333333   0.333333\n",
       " 0.333333    0.333333   0.333333\n",
       " 0.333333    0.333333   0.333333\n",
       " 0.302668    0.286526   0.362843\n",
       " 0.306444    0.284013   0.362978\n",
       " 0.419858    0.0468217  0.184226\n",
       " 0.209967    0.226953   0.15231\n",
       " 0.213046    0.225501   0.146308\n",
       " 0.240534    0.163616   0.275005\n",
       " 0.202703    0.179351   0.275501\n",
       " ⋮                      \n",
       " 0.00442124  0.53526    0.417842\n",
       " 0.153479    0.472082   0.222536\n",
       " 0.0507364   0.391918   0.0829171\n",
       " 0.165069    0.556581   0.124911\n",
       " 0.117384    0.579771   0.143322\n",
       " 0.115534    0.656849   0.193483\n",
       " 0.259159    0.3105     0.0332886\n",
       " 0.259088    0.310236   0.0328499\n",
       " 0.370893    0.283849   0.0294364"
      ]
     },
     "metadata": {},
     "output_type": "display_data"
    }
   ],
   "source": [
    "samples = hit_and_run(A, b, v, 1000)"
   ]
  },
  {
   "cell_type": "code",
   "execution_count": 40,
   "metadata": {},
   "outputs": [
    {
     "data": {
      "text/plain": [
       "1×3 Matrix{Float64}:\n",
       " 0.230485  0.225296  0.232473"
      ]
     },
     "metadata": {},
     "output_type": "display_data"
    }
   ],
   "source": [
    "sum(samples, dims=1) / size(samples, 1)"
   ]
  }
 ],
 "metadata": {
  "kernelspec": {
   "display_name": "Julia 1.10.5",
   "language": "julia",
   "name": "julia-1.10"
  },
  "language_info": {
   "file_extension": ".jl",
   "mimetype": "application/julia",
   "name": "julia",
   "version": "1.10.5"
  }
 },
 "nbformat": 4,
 "nbformat_minor": 2
}
