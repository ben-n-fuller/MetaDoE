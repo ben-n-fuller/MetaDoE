{
 "cells": [
  {
   "cell_type": "markdown",
   "metadata": {},
   "source": [
    "## PSO 2\n",
    "The goal of this notebook is to implement the PSO algorithm for hypercubes and simplices based on the Walsh implementation but using the new Designs and Models modules for design initialization and model expansion."
   ]
  },
  {
   "cell_type": "code",
   "execution_count": 31,
   "metadata": {},
   "outputs": [
    {
     "name": "stderr",
     "output_type": "stream",
     "text": [
      "WARNING: replacing module IndustrialStats.\n",
      "WARNING: ignoring conflicting import of IndustrialStats.Designs into Main\n",
      "WARNING: ignoring conflicting import of IndustrialStats.Models into Main\n",
      "WARNING: ignoring conflicting import of IndustrialStats.OptimalityCriteria into Main\n",
      "WARNING: ignoring conflicting import of IndustrialStats.TensorOps into Main\n",
      "WARNING: ignoring conflicting import of IndustrialStats.Simplex into Main\n"
     ]
    }
   ],
   "source": [
    "include(\"../../src/industrial_stats.jl\")\n",
    "using .IndustrialStats: Designs, Models, OptimalityCriteria, TensorOps, Simplex\n",
    "using Distributions\n",
    "using LinearAlgebra"
   ]
  },
  {
   "cell_type": "code",
   "execution_count": 32,
   "metadata": {},
   "outputs": [
    {
     "name": "stderr",
     "output_type": "stream",
     "text": [
      "WARNING: replacing module PSOTypes.\n",
      "WARNING: using PSOTypes.HyperParams in module Main conflicts with an existing identifier.\n",
      "WARNING: using PSOTypes.ParticleMemory in module Main conflicts with an existing identifier.\n",
      "WARNING: using PSOTypes.ParticleFitness in module Main conflicts with an existing identifier.\n",
      "WARNING: using PSOTypes.ParticleState in module Main conflicts with an existing identifier.\n",
      "WARNING: using PSOTypes.ParticleWorld in module Main conflicts with an existing identifier.\n",
      "WARNING: using PSOTypes.RunnerState in module Main conflicts with an existing identifier.\n",
      "WARNING: using PSOTypes.RunnerParams in module Main conflicts with an existing identifier.\n"
     ]
    }
   ],
   "source": [
    "include(\"./types.jl\")\n",
    "using .PSOTypes"
   ]
  },
  {
   "cell_type": "markdown",
   "metadata": {},
   "source": [
    "## Constants"
   ]
  },
  {
   "cell_type": "code",
   "execution_count": 33,
   "metadata": {},
   "outputs": [
    {
     "data": {
      "text/plain": [
       "3.7600240536254295"
      ]
     },
     "execution_count": 33,
     "metadata": {},
     "output_type": "execute_result"
    }
   ],
   "source": [
    "N = 7\n",
    "K = 3\n",
    "S = 4\n",
    "max_iter = 10\n",
    "w = 1/(2*log(2))\n",
    "c1 = 0.5 + log(2)\n",
    "c2 = 0.5 + log(2)\n",
    "nn = 3\n",
    "relTol = 0\n",
    "maxStag = 500\n",
    "v_max_scale = 2\n",
    "max_particle_step_size = Simplex.max_d(K) / v_max_scale"
   ]
  },
  {
   "cell_type": "markdown",
   "metadata": {},
   "source": [
    "## State"
   ]
  },
  {
   "cell_type": "markdown",
   "metadata": {},
   "source": [
    "## State Update"
   ]
  },
  {
   "cell_type": "code",
   "execution_count": 34,
   "metadata": {},
   "outputs": [
    {
     "data": {
      "text/plain": [
       "update_state (generic function with 1 method)"
      ]
     },
     "execution_count": 34,
     "metadata": {},
     "output_type": "execute_result"
    }
   ],
   "source": [
    "function update_memory(memory::ParticleMemory, fitness::ParticleFitness, state::ParticleState)::ParticleMemory\n",
    "    # Update best positions\n",
    "    memory.particle_best[fitness.scores .< memory.particle_best_scores, :, :] .= state.particles[fitness.scores .< memory.particle_best_scores, :, :]\n",
    "\n",
    "    # Update best scores\n",
    "    memory.particle_best_scores[fitness.scores .< memory.particle_best_scores] .= fitness.scores[fitness.scores .< memory.particle_best_scores]\n",
    "\n",
    "    # # Update global best score and position\n",
    "    new_global_best = TensorOps.squeeze(memory.particle_best[argmin(memory.particle_best_scores), :, :])\n",
    "    new_best_score = minimum(memory.particle_best_scores)\n",
    "\n",
    "    return ParticleMemory(memory.particle_best, memory.particle_best_scores, new_global_best, new_best_score)\n",
    "end\n",
    "\n",
    "function update_fitness(state::ParticleState, objective::Function)::ParticleFitness\n",
    "    # Compute scores from updated positions\n",
    "    scores = objective(state.particles)\n",
    "\n",
    "    # Update fitness\n",
    "    fitness = ParticleFitness(scores, world.fitness.objective)\n",
    "    return fitness\n",
    "end\n",
    "\n",
    "function update_velocity_and_position(world::ParticleWorld)::ParticleState\n",
    "    # Get scaling coefficients\n",
    "    r1 = rand(size(world.state.particles)...)\n",
    "    r2 = rand(size(world.state.particles)...)\n",
    "\n",
    "    # Update velocities with inertia, cognitive and social components\n",
    "    particle_inertia = world.params.w * world.state.velocities\n",
    "    cognitive = world.params.c1 * r1 .* (world.memory.particle_best .- world.state.particles)\n",
    "    social = world.params.c2 * r2 .* (TensorOps.expand(world.memory.global_best) .- world.state.particles)\n",
    "\n",
    "    # Set new velocity\n",
    "    new_velocities = particle_inertia .+ cognitive .+ social\n",
    "\n",
    "    # Update particle positions\n",
    "    new_particle_pos = world.state.particles .+ new_velocities\n",
    "\n",
    "    return ParticleState(new_particle_pos, new_velocities)\n",
    "end\n",
    "\n",
    "function assign_random_neighbors(num_particles, num_neighbors)\n",
    "    # Create a boolean adjacency matrix of particles\n",
    "    # Each neighbor has on average num_neighbors connections\n",
    "    d = Uniform(0, 1)\n",
    "    p_avg = 1 - (1 - (1 / num_particles)) ^ num_neighbors\n",
    "    adjacency_matrix = reshape(rand(d, num_particles * num_particles) .< p_avg, (num_particles, num_particles))\n",
    "\n",
    "    # Connect particles to themselves\n",
    "    adjacency_matrix[diagind(adjacency_matrix)] .= 1\n",
    "\n",
    "    return adjacency_matrix\n",
    "end\n",
    "\n",
    "function update_neighbors(world::ParticleWorld)::ParticleWorld\n",
    "    neighbs = assign_random_neighbors(size(world.state.particles, 1), world.params.num_neighbors)\n",
    "    return ParticleWorld(world.state, neighbs, world.fitness, world.memory, world.params)\n",
    "end\n",
    "\n",
    "function update_state(world::ParticleWorld) \n",
    "    new_state = update_velocity_and_position(world)\n",
    "    new_fitness = update_fitness(new_state, world.fitness.objective)\n",
    "    new_memory = update_memory(world.memory, new_fitness, new_state)\n",
    "    new_world = ParticleWorld(new_state, world.neighbors, new_fitness, new_memory, world.params)\n",
    "    return new_world\n",
    "end"
   ]
  },
  {
   "cell_type": "markdown",
   "metadata": {},
   "source": [
    "## Initialization"
   ]
  },
  {
   "cell_type": "code",
   "execution_count": 35,
   "metadata": {},
   "outputs": [
    {
     "data": {
      "text/plain": [
       "initialize_swarm (generic function with 1 method)"
      ]
     },
     "execution_count": 35,
     "metadata": {},
     "output_type": "execute_result"
    }
   ],
   "source": [
    "function initialize_swarm(initializer::Function, objective::Function, params::HyperParams; num_particles = 150)\n",
    "    particles = initializer(num_particles)\n",
    "    velocities = initializer(num_particles)\n",
    "    particle_state = ParticleState(particles, velocities)\n",
    "    neighbors = assign_random_neighbors(num_particles, params.num_neighbors)\n",
    "    scores = objective(particles)\n",
    "    memory = ParticleMemory(particles, scores, particles[argmin(scores), :, :], minimum(scores))\n",
    "    fitness = ParticleFitness(scores, objective)\n",
    "    return ParticleWorld(\n",
    "        particle_state, \n",
    "        neighbors, \n",
    "        fitness,\n",
    "        memory,\n",
    "        params\n",
    "    )\n",
    "end"
   ]
  },
  {
   "cell_type": "markdown",
   "metadata": {},
   "source": [
    "## Convergence and Termination"
   ]
  },
  {
   "cell_type": "code",
   "execution_count": 36,
   "metadata": {},
   "outputs": [
    {
     "data": {
      "text/plain": [
       "run_pso (generic function with 2 methods)"
      ]
     },
     "execution_count": 36,
     "metadata": {},
     "output_type": "execute_result"
    }
   ],
   "source": [
    "function initialize_runner(world::ParticleWorld)\n",
    "    return RunnerState(world, 0, 0)\n",
    "end\n",
    "\n",
    "function should_continue(runner::RunnerState, params::RunnerParams)\n",
    "    return runner.iter < params.max_iter && runner.stagnation < params.max_stag\n",
    "end\n",
    "\n",
    "function improvement(old_world::ParticleWorld, new_world::ParticleWorld, rel_tol)\n",
    "    return abs(new_world.memory.global_best_score - old_world.memory.global_best_score) > rel_tol\n",
    "end\n",
    "\n",
    "function run_pso(world::ParticleWorld, runner_params::RunnerParams, cb::Function)::RunnerState\n",
    "    runner_state = initialize_runner(world)\n",
    "    while should_continue(runner_state, runner_params)\n",
    "        new_world = update_state(runner_state.world)\n",
    "        if improvement(runner_state.world, new_world, relTol)\n",
    "            runner_state = RunnerState(new_world, runner_state.iter + 1, 0)\n",
    "        else\n",
    "            # Update neighbors\n",
    "            new_world = update_neighbors(new_world)\n",
    "            runner_state = RunnerState(new_world, runner_state.iter + 1, runner_state.stagnation + 1)\n",
    "        end\n",
    "        cb(runner_state)\n",
    "    end\n",
    "    return runner_state\n",
    "end"
   ]
  },
  {
   "cell_type": "markdown",
   "metadata": {},
   "source": [
    "## Testing\n",
    "### Initialization"
   ]
  },
  {
   "cell_type": "code",
   "execution_count": 37,
   "metadata": {},
   "outputs": [
    {
     "data": {
      "text/plain": [
       "ParticleWorld(ParticleState([0.9571083012246071 0.7354706018716142 … 0.21565001352435786 0.9363559849910666; 0.6635804464027526 0.9350182479498145 … 0.7278250459852221 0.2285475050586172; 0.6258772161074047 0.1533301354821871 … 0.3516660909471503 0.8336283422610432; 0.4367275035710656 0.4794954851476563 … 0.10821358789310465 0.12517534368130712;;; 0.5263338257464973 0.18158808411301974 … 0.04882032713184459 0.3311530741249008; 0.0384944048809146 0.2253736261726842 … 0.06914201800568631 0.9389175148188372; 0.14590251465105075 0.6317946669959141 … 0.9032832366301288 0.5218933295249694; 0.2898146184070961 0.051287102958875286 … 0.733533481606396 0.6651843798966403;;; 0.8770311412023725 0.8990338134725263 … 0.9107639287011996 0.7668130777666022; 0.200918539260036 0.6030819440336892 … 0.364185306468088 0.5330470993226015; 0.2212237599270116 0.6018098989627217 … 0.021262534034275138 0.0926427530732421; 0.41055374649198684 0.963706854240026 … 0.22041920396666215 0.2515354560979396], [0.07171115147714235 0.8785208974837112 … 0.563444932684547 0.8175758719380486; 0.5703927799707892 0.8271884956424138 … 0.42908289789470844 0.9842815930591254; 0.5963421575671777 0.4817792279860186 … 0.2613341491361595 0.9897724576535473; 0.14025638698474252 0.6877312202433584 … 0.8330694059039738 0.946969194738693;;; 0.4151469323350605 0.5585342854226373 … 0.24033215478136316 0.14173754189906207; 0.4223998111757492 0.2588818256978397 … 0.8425122544746778 0.6941296038085041; 0.8350350479714506 0.20212911867282446 … 0.46593165413836557 0.016505053768498756; 0.05861247611331888 0.2808292680094655 … 0.2019871754151087 0.09566454182461848;;; 0.21848722504408757 0.1951787772888871 … 0.8854399166127307 0.007447221872276866; 0.3639975831040255 0.8966893736019009 … 0.3751084193308398 0.31239164982231205; 0.7892555713221135 0.46044940964123593 … 0.5406331734155077 0.347820995729908; 0.37826256457177554 0.6102283886002979 … 0.48928998865742523 0.4526986643848141]), [1.0 0.0 1.0 0.0; 1.0 1.0 0.0 0.0; 1.0 0.0 1.0 1.0; 0.0 1.0 1.0 1.0], ParticleFitness([0.9970383224394542, 0.9652091325931994, 0.9767284897193768, 0.9880020234979358], var\"#41#42\"()), ParticleMemory([0.9571083012246071 0.7354706018716142 … 0.21565001352435786 0.9363559849910666; 0.6635804464027526 0.9350182479498145 … 0.7278250459852221 0.2285475050586172; 0.6258772161074047 0.1533301354821871 … 0.3516660909471503 0.8336283422610432; 0.4367275035710656 0.4794954851476563 … 0.10821358789310465 0.12517534368130712;;; 0.5263338257464973 0.18158808411301974 … 0.04882032713184459 0.3311530741249008; 0.0384944048809146 0.2253736261726842 … 0.06914201800568631 0.9389175148188372; 0.14590251465105075 0.6317946669959141 … 0.9032832366301288 0.5218933295249694; 0.2898146184070961 0.051287102958875286 … 0.733533481606396 0.6651843798966403;;; 0.8770311412023725 0.8990338134725263 … 0.9107639287011996 0.7668130777666022; 0.200918539260036 0.6030819440336892 … 0.364185306468088 0.5330470993226015; 0.2212237599270116 0.6018098989627217 … 0.021262534034275138 0.0926427530732421; 0.41055374649198684 0.963706854240026 … 0.22041920396666215 0.2515354560979396], [0.9970383224394542, 0.9652091325931994, 0.9767284897193768, 0.9880020234979358], [0.6635804464027526 0.0384944048809146 0.200918539260036; 0.9350182479498145 0.2253736261726842 0.6030819440336892; … ; 0.7278250459852221 0.06914201800568631 0.364185306468088; 0.2285475050586172 0.9389175148188372 0.5330470993226015], 0.9652091325931994), HyperParams(0.7213475204444817, 1.1931471805599454, 1.1931471805599454, 3))"
      ]
     },
     "execution_count": 37,
     "metadata": {},
     "output_type": "execute_result"
    }
   ],
   "source": [
    "# Initialization\n",
    "initializer = (n) -> rand(n, N, K)\n",
    "objective = (x) -> TensorOps.squeeze(maximum(x, dims=(2,3)))\n",
    "params = HyperParams(w, c1, c2, nn)\n",
    "world = initialize_swarm(initializer, objective, params; num_particles=S)"
   ]
  },
  {
   "cell_type": "markdown",
   "metadata": {},
   "source": [
    "### State Update\n",
    "#### Velocity and Position"
   ]
  },
  {
   "cell_type": "code",
   "execution_count": 38,
   "metadata": {},
   "outputs": [
    {
     "data": {
      "text/plain": [
       "ParticleState([0.6842097675926988 1.4654113711246943 … 0.777635501094562 0.7007390767707404; 1.0750318639141163 1.5317086182216706 … 1.0373429304467028 0.9385565916309617; 1.0832869259776983 1.3592880073722502 … 0.8419965123640121 1.5057795717148132; 0.600263230266513 1.0403482845472907 … 1.0133577144096542 0.8853531178224862;;; 0.6187639762935908 0.6053859615457984 … 0.24206858952006985 0.703283115131321; 0.34319146130875855 0.4121173892279614 … 0.6768861437150854 1.4396261833932122; 0.6810391498627011 0.6970447715713588 … 0.5826144705463234 0.8384436126419996; 0.1033037355358157 0.2830238761517879 … 0.7917704153806095 1.0312436447521371;;; 0.70137914678511 0.747825985621587 … 1.2140712438094428 0.5253366024401024; 0.46348729327990895 1.2499066002903358 … 0.6347688346502383 0.7583900413294871; 0.7875228530651754 0.934719166101837 … 0.5429917195806284 0.38117904229411087; 0.45928359663537843 0.991647463688428 … 0.6925461416472405 0.711855448109378], [-0.27289853363190836 0.7299407692530802 … 0.5619854875702042 -0.23561690822032622; 0.4114514175113636 0.5966903702718561 … 0.30951788446148065 0.7100090865723445; 0.45740970987029356 1.2059578718900632 … 0.49033042141686184 0.6721512294537701; 0.1635357266954474 0.5608527993996344 … 0.9051441265165495 0.760177774141179;;; 0.09243015054709347 0.4237978774327787 … 0.19324826238822526 0.3721300410064202; 0.30469705642784395 0.18674376305527715 … 0.6077441257093991 0.5007086685743749; 0.5351366352116503 0.06525010457544471 … -0.32066876608380535 0.31655028311703026; -0.1865108828712804 0.2317367731929126 … 0.058236933774213615 0.36605926485549684;;; -0.1756519944172624 -0.15120782785093936 … 0.3033073151082432 -0.24147647532649988; 0.26256875401987295 0.6468246562566468 … 0.2705835281821502 0.2253429420068856; 0.5662990931381638 0.33290926713911534 … 0.5217291855463533 0.28853628922086877; 0.048729850143391595 0.0279406094484021 … 0.4721269376805784 0.4603199920114384])"
      ]
     },
     "execution_count": 38,
     "metadata": {},
     "output_type": "execute_result"
    }
   ],
   "source": [
    "# Get scaling coefficients\n",
    "r1 = rand(size(world.state.particles)...)\n",
    "r2 = rand(size(world.state.particles)...)\n",
    "\n",
    "# Update velocities with inertia, cognitive and social components\n",
    "particle_inertia = world.params.w * world.state.velocities\n",
    "cognitive = world.params.c1 * r1 .* (world.memory.particle_best .- world.state.particles)\n",
    "social = world.params.c2 * r2 .* (TensorOps.expand(world.memory.global_best) .- world.state.particles)\n",
    "\n",
    "# Set new velocity\n",
    "new_velocities = particle_inertia .+ cognitive .+ social\n",
    "\n",
    "# Update particle positions\n",
    "new_particle_pos = world.state.particles .+ new_velocities\n",
    "\n",
    "new_state = ParticleState(new_particle_pos, new_velocities)"
   ]
  },
  {
   "cell_type": "markdown",
   "metadata": {},
   "source": [
    "### Final State"
   ]
  },
  {
   "cell_type": "code",
   "execution_count": 39,
   "metadata": {},
   "outputs": [
    {
     "data": {
      "text/plain": [
       "ParticleWorld(ParticleState([0.8412382303782885 1.5887287696021155 … 0.8122756288493549 1.0702364421714623; 1.0750318639141163 1.5317086182216706 … 1.0373429304467028 0.9385565916309617; 1.065907181992923 1.2748381279171639 … 0.6586351871913311 0.9756974829113041; 0.5418819400132084 1.1188136966736624 … 0.7270535460672347 0.8392625394432441;;; 0.5306555162055806 0.631266917560751 … 0.24371075729314734 0.8793793243016028; 0.34319146130875855 0.4121173892279614 … 0.6768861437150854 1.4396261833932122; 0.7161027115926575 0.4124751971195052 … 0.7264746383118678 0.7712151274063977; 0.21076813723842822 0.41666468871550544 … 0.627081331062378 0.7776907218388569;;; 0.24350022727418663 0.9046912890503255 … 1.1338245138935794 0.5517501600684431; 0.46348729327990895 1.2499066002903358 … 0.6347688346502383 0.7583900413294871; 0.7831345107872859 0.9340902921890377 … 0.461048631491187 0.5653505855437413; 0.470012462953425 1.0526845742574673 … 0.5736192233453493 0.6265623782794245], [-0.1158700708463186 0.8532581677305014 … 0.596625615324997 0.1338804571803956; 0.4114514175113636 0.5966903702718561 … 0.30951788446148065 0.7100090865723445; 0.44002996588551824 1.1215079924349767 … 0.3069690962441808 0.14206914065026088; 0.10515443644214287 0.6393182115260061 … 0.6188399581741301 0.714087195761937;;; 0.004321690459083205 0.44967883344773124 … 0.19489043016130275 0.548226250176702; 0.30469705642784395 0.18674376305527715 … 0.6077441257093991 0.5007086685743749; 0.5702001969416067 -0.21931946987640893 … -0.176808598318261 0.2493217978814284; -0.07904648116866789 0.36537758575663015 … -0.10645215054401799 0.11250634194221669;;; -0.6335309139281858 0.005657475577799137 … 0.22306058519237992 -0.21506291769815908; 0.26256875401987295 0.6468246562566468 … 0.2705835281821502 0.2253429420068856; 0.5619107508602743 0.3322803932263159 … 0.4397860974569119 0.47270783247049925; 0.05945871646143816 0.08897772001744131 … 0.35320001937868717 0.375026922181485]), [1.0 0.0 1.0 0.0; 1.0 1.0 0.0 0.0; 1.0 0.0 1.0 1.0; 0.0 1.0 1.0 1.0], ParticleFitness([1.5887287696021155, 1.5619243881706069, 1.2999342906426956, 1.5037078282971854], var\"#41#42\"()), ParticleMemory([0.9571083012246071 0.7354706018716142 … 0.21565001352435786 0.9363559849910666; 0.6635804464027526 0.9350182479498145 … 0.7278250459852221 0.2285475050586172; 0.6258772161074047 0.1533301354821871 … 0.3516660909471503 0.8336283422610432; 0.4367275035710656 0.4794954851476563 … 0.10821358789310465 0.12517534368130712;;; 0.5263338257464973 0.18158808411301974 … 0.04882032713184459 0.3311530741249008; 0.0384944048809146 0.2253736261726842 … 0.06914201800568631 0.9389175148188372; 0.14590251465105075 0.6317946669959141 … 0.9032832366301288 0.5218933295249694; 0.2898146184070961 0.051287102958875286 … 0.733533481606396 0.6651843798966403;;; 0.8770311412023725 0.8990338134725263 … 0.9107639287011996 0.7668130777666022; 0.200918539260036 0.6030819440336892 … 0.364185306468088 0.5330470993226015; 0.2212237599270116 0.6018098989627217 … 0.021262534034275138 0.0926427530732421; 0.41055374649198684 0.963706854240026 … 0.22041920396666215 0.2515354560979396], [0.9970383224394542, 0.9652091325931994, 0.9767284897193768, 0.9880020234979358], [0.6635804464027526 0.0384944048809146 0.200918539260036; 0.9350182479498145 0.2253736261726842 0.6030819440336892; … ; 0.7278250459852221 0.06914201800568631 0.364185306468088; 0.2285475050586172 0.9389175148188372 0.5330470993226015], 0.9652091325931994), HyperParams(0.7213475204444817, 1.1931471805599454, 1.1931471805599454, 3))"
      ]
     },
     "execution_count": 39,
     "metadata": {},
     "output_type": "execute_result"
    }
   ],
   "source": [
    "new_world = update_state(world)"
   ]
  },
  {
   "cell_type": "markdown",
   "metadata": {},
   "source": [
    "### Runner"
   ]
  },
  {
   "cell_type": "code",
   "execution_count": 40,
   "metadata": {},
   "outputs": [
    {
     "data": {
      "text/plain": [
       "#47 (generic function with 1 method)"
      ]
     },
     "execution_count": 40,
     "metadata": {},
     "output_type": "execute_result"
    }
   ],
   "source": [
    "# Initialization\n",
    "initializer = (n) -> rand(n, N, K)\n",
    "objective = (x) -> TensorOps.squeeze(maximum(x, dims=(2,3)))\n",
    "params = HyperParams(w, c1, c2, nn)\n",
    "world = initialize_swarm(initializer, objective, params; num_particles=S)\n",
    "cb = (x) -> println(\"Iteration: \", x.iter, \", Stagnation: \", x.stagnation, \", Best score: \", x.world.memory.global_best_score)"
   ]
  },
  {
   "cell_type": "code",
   "execution_count": 41,
   "metadata": {},
   "outputs": [
    {
     "name": "stdout",
     "output_type": "stream",
     "text": [
      "Iteration: 1, Stagnation: 1, Best score: 0.9155006079842962\n",
      "Iteration: 2, Stagnation: 2, Best score: 0.9155006079842962\n",
      "Iteration: 3, Stagnation: 0, Best score: 0.7101011190834949\n",
      "Iteration: 4, Stagnation: 0, Best score: 0.5969727384872391\n",
      "Iteration: 5, Stagnation: 0, Best score: 0.34832233378629146\n",
      "Iteration: 6, Stagnation: 0, Best score: 0.3021134681314523\n",
      "Iteration: 7, Stagnation: 0, Best score: 0.23015708798937107\n",
      "Iteration: 8, Stagnation: 1, Best score: 0.23015708798937107\n",
      "Iteration: 9, Stagnation: 0, Best score: 0.17338379356509864\n",
      "Iteration: 10, Stagnation: 0, Best score: 0.14586335167810038\n"
     ]
    },
    {
     "data": {
      "text/plain": [
       "RunnerState(ParticleWorld(ParticleState([-0.6451622243684789 -0.061444368774980926 … 0.022345263457058916 0.07912527363485802; -1.5940824646519962 -0.08148583827259914 … -0.018947662517224687 0.10010232055715773; -1.9441617245572802 -0.12544967480742444 … -0.21450076055942643 0.1604566628666984; -2.0502879279119384 -0.11335642699042098 … 0.036608459140062916 0.14586335167810038;;; -0.3062085710105822 -0.06499007417828875 … -0.8129102050572341 -0.15198403070727057; -0.6705746772930485 0.13147147737913506 … -1.3087661635120207 -0.14529217570455816; -0.4104742108398653 0.11501977176235839 … -1.151129481800671 -0.2231705478361614; -0.4468435417407656 -0.032329165293605674 … -1.1608820377021154 -0.32049185988643736;;; -1.1957679261581005 0.5030284249589991 … -0.32663102807617406 -1.4630418068957065; -1.263168299895339 0.16703297946787551 … -0.66956712687781 -1.9077025058265036; -1.4133669676756435 0.08997264931739134 … -0.7553008880955916 -1.5363874324385751; -1.21674339407866 0.12976478150597637 … -0.942086961976549 -1.7614250335951716], [0.14645536301616666 0.036944593880749 … 0.0731126377927089 0.1699400251674968; -0.028608931267123137 0.1801164823247497 … 0.02000179745345682 -0.006731103517937524; -0.4222839347760652 -0.2396273988570343 … -0.18596463184180115 -0.04449216471913241; -0.35554514343426996 -0.057268522481707565 … 0.011653582540925914 0.04174224984220362;;; 0.010267150903019301 -0.17811136651710696 … 0.39314031528711085 -0.030370012577843372; 0.05188273939913381 -0.03368569643633605 … 0.485293873732719 0.15638587546464439; 0.003184177813771402 -0.057508920917475816 … 0.6469291878617525 0.017936939245979527; -0.060832039371202226 -0.10944211239541855 … -0.06193723751935321 -0.10103035519931816;;; -0.20158771773588863 0.09673032594188447 … 0.3213005125585662 -0.07717498858700543; 0.5811433179968961 -0.10761112429075118 … -0.0036050696552103606 -0.3189812983120415; 0.05611537936453852 -0.09660105449517133 … 0.11823110670474385 0.16440671813117508; 0.10225968292498819 -0.04361901205912228 … -0.20802914667831496 -0.21106661078291664]), [1.0 1.0 1.0 1.0; 0.0 1.0 0.0 0.0; 1.0 1.0 1.0 0.0; 0.0 0.0 1.0 1.0], ParticleFitness([0.5030284249589991, 0.32412808738598925, 0.1604566628666984, 0.14586335167810038], var\"#45#46\"()), ParticleMemory([-0.7178584569246078 0.030035850262071645 … -0.010573208472766549 0.11156599590088317; -1.5940824646519962 -0.08148583827259914 … -0.018947662517224687 0.10010232055715773; -1.9441617245572802 -0.12544967480742444 … -0.21450076055942643 0.1604566628666984; -2.0502879279119384 -0.11335642699042098 … 0.036608459140062916 0.14586335167810038;;; -0.3470747942997804 0.3021134681314523 … -1.0867565508624577 -0.0976657885141581; -0.6705746772930485 0.13147147737913506 … -1.3087661635120207 -0.14529217570455816; -0.4104742108398653 0.11501977176235839 … -1.151129481800671 -0.2231705478361614; -0.4468435417407656 -0.032329165293605674 … -1.1608820377021154 -0.32049185988643736;;; -0.16429780020606988 0.2969949528942818 … -0.22397332576464435 -1.4970486572211554; -1.263168299895339 0.16703297946787551 … -0.66956712687781 -1.9077025058265036; -1.4133669676756435 0.08997264931739134 … -0.7553008880955916 -1.5363874324385751; -1.21674339407866 0.12976478150597637 … -0.942086961976549 -1.7614250335951716], [0.3021134681314523, 0.32412808738598925, 0.1604566628666984, 0.14586335167810038], [-2.0502879279119384 -0.4468435417407656 -1.21674339407866; -0.11335642699042098 -0.032329165293605674 0.12976478150597637; … ; 0.036608459140062916 -1.1608820377021154 -0.942086961976549; 0.14586335167810038 -0.32049185988643736 -1.7614250335951716], 0.14586335167810038), HyperParams(0.7213475204444817, 1.1931471805599454, 1.1931471805599454, 3)), 10, 0)"
      ]
     },
     "execution_count": 41,
     "metadata": {},
     "output_type": "execute_result"
    }
   ],
   "source": [
    "params = RunnerParams(max_iter, maxStag, relTol)\n",
    "runner_state = run_pso(world, params, cb)"
   ]
  },
  {
   "cell_type": "code",
   "execution_count": null,
   "metadata": {},
   "outputs": [
    {
     "data": {
      "text/plain": [
       "(10, 0.14586335167810038)"
      ]
     },
     "execution_count": 42,
     "metadata": {},
     "output_type": "execute_result"
    }
   ],
   "source": [
    "runner_state.iter, runner_state.world.memory.global_best_score"
   ]
  },
  {
   "cell_type": "code",
   "execution_count": 43,
   "metadata": {},
   "outputs": [
    {
     "data": {
      "text/plain": [
       "7×3 Matrix{Float64}:\n",
       " -2.05029    -0.446844   -1.21674\n",
       " -0.113356   -0.0323292   0.129765\n",
       " -0.506585   -0.830547    0.0578764\n",
       " -1.17671    -0.549901    0.0721687\n",
       " -1.45123     0.0434918  -0.950223\n",
       "  0.0366085  -1.16088    -0.942087\n",
       "  0.145863   -0.320492   -1.76143"
      ]
     },
     "execution_count": 43,
     "metadata": {},
     "output_type": "execute_result"
    }
   ],
   "source": [
    "runner_state.world.memory.global_best"
   ]
  },
  {
   "cell_type": "markdown",
   "metadata": {},
   "source": [
    "## Mixture"
   ]
  },
  {
   "cell_type": "code",
   "execution_count": null,
   "metadata": {},
   "outputs": [],
   "source": []
  }
 ],
 "metadata": {
  "kernelspec": {
   "display_name": "Julia 1.11.1",
   "language": "julia",
   "name": "julia-1.11"
  },
  "language_info": {
   "file_extension": ".jl",
   "mimetype": "application/julia",
   "name": "julia",
   "version": "1.11.1"
  }
 },
 "nbformat": 4,
 "nbformat_minor": 2
}
