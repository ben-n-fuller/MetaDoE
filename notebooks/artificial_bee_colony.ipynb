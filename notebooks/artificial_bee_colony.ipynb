{
 "cells": [
  {
   "cell_type": "markdown",
   "metadata": {},
   "source": [
    "# Artificial Bee Colony Optimization\n",
    "### Particle Behavior\n",
    "Three types of bees: employed bees, onlooker bees, and scout bees\n",
    "\n",
    "Employed bees search for food near the food source in their memory\n",
    "\n",
    "Onlooker bees select from food sources found by employed bees according to fitness of each employer\n",
    "\n",
    "The scout bees are translated from a few employed bees, which abandon their food sources and search new ones\n",
    "\n",
    "## Initialization\n",
    "Each employed bee is assigned a random location in the search space\n",
    "\n",
    "## State\n",
    "- Employed bees can be represented as a matrix in $\\mathbb R^{N\\times D}$, where $D$ is the number of dimensions in the search space and $N$ the number of employed bees\n",
    "\n",
    "- The active fitness scores are a vector $N\\times 1$\n",
    "\n",
    "## State Update\n",
    "Employed bees are at some location in the search space\n",
    "\n",
    "Onlooker bees choose a new employed bee's location with probability \n",
    "$$\n",
    "p_i=\\frac{\\text{fit}_i}{\\sum_{n=1}^N\\text{fit}_i}\n",
    "$$\n",
    "\n",
    "Employed bees and onlooker bees then modify their position according to this rule:\n",
    "$$\n",
    "    v_{ij}=x_{ij}+\\phi_{ij}(x_{ij}-x_{kj})\n",
    "$$\n",
    "where $\\bm x$ is the memory position, $\\bm v$ is the updated position, and $\\bm\\phi$ is distributed uniform $[-1, 1]$. The bee evaluates the updated position against the memory position using a greedy algorithm.\n",
    "\n",
    "Each employed bee location (food source) will change only if the solution is improved. If the solution is not improved after a certain number of iterations, the food source is abandoned and the bee is randomly re-assigned a new source\n",
    "\n",
    "## Termination\n",
    "Terminates after a maximum number of iterations"
   ]
  },
  {
   "cell_type": "markdown",
   "metadata": {},
   "source": [
    "# Implementation\n",
    "## Imports"
   ]
  },
  {
   "cell_type": "code",
   "execution_count": 1,
   "metadata": {},
   "outputs": [],
   "source": [
    "include(\"../../src/industrial_stats.jl\")\n",
    "using .IndustrialStats: Designs, Models, OptimalityCriteria, TensorOps\n",
    "using Random\n",
    "using Distributions\n",
    "using StatsBase\n",
    "using Logging\n",
    "using HDF5\n",
    "using LinearAlgebra "
   ]
  },
  {
   "cell_type": "markdown",
   "metadata": {},
   "source": [
    "## State & State Update"
   ]
  },
  {
   "cell_type": "code",
   "execution_count": null,
   "metadata": {},
   "outputs": [],
   "source": [
    "struct WorldState\n",
    "    employed::Array\n",
    "    best::Array\n",
    "    objective::Function\n",
    "    num_onlookers::Int\n",
    "end\n",
    "\n",
    "function compute_onlookers(state::WorldState)::Array\n",
    "    # Compute the fitness scores over the employed bees\n",
    "    fitness = state.objective(state.employed)\n",
    "\n",
    "    # Compute the probabilities of selection\n",
    "    probs = fitness ./ sum(fitness)\n",
    "\n",
    "    # Choose the onlookers\n",
    "    onlookers = sample(1:length(state.employed), Weights(probs), state.num_onlookers, replace=true)\n",
    "\n",
    "    return view(state.employed, onlookers)\n",
    "end\n",
    "\n",
    "function perturb_positions(positions::Array)::Array\n",
    "    \n",
    "end"
   ]
  }
 ],
 "metadata": {
  "kernelspec": {
   "display_name": "Julia 1.11.1",
   "language": "julia",
   "name": "julia-1.11"
  },
  "language_info": {
   "file_extension": ".jl",
   "mimetype": "application/julia",
   "name": "julia",
   "version": "1.11.1"
  }
 },
 "nbformat": 4,
 "nbformat_minor": 2
}
