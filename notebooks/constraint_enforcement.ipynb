{
 "cells": [
  {
   "cell_type": "markdown",
   "metadata": {},
   "source": [
    "# Constraint Enforcement\n",
    "## Penalty Methods\n",
    "Include a penalty term that modifies the fitness score for for a given candidate $\\bm x$ with inequality constraints $\\bm A\\bm x\\leq \\bm b$ and equality constraints $\\bm B\\bm x= \\bm c$:\n",
    "\n",
    "$$ g^*(\\bm x)=g(\\bm x)+\\lambda || \\max (0, \\bm A\\bm x-\\bm b) ||^2+\\nu || \\bm B\\bm x - \\bm c||^2$$\n",
    "\n",
    "where $\\max$ is taken element-wise.\n",
    "\n",
    "## Constraint Repair\n",
    "### Linear Intersection\n",
    "At some iteration $t-1$, the particle is in the feasible region, and at time $t$ it is violating the constraint. Find the location on the boundary where the particle escaped the feasible region:\n",
    "$$\n",
    "\\begin{equation}\n",
    "    \\begin{array}{c}\n",
    "        \\lambda_{proj} := \\underset{j}{\\text{argmin}} \\ \\lambda_j \\\\[12pt]\n",
    "        \\text{s.t.} \\quad \\bm A_j(\\lambda_j  \\bm x_{int} + (1-\\lambda_j)\\bm x_{ext})=b_j\n",
    "    \\end{array}\n",
    "\\end{equation}\n",
    "$$\n",
    "\n",
    "and the projected point is $$\\bm x_{proj}=\\lambda_{proj}  \\bm x_{int} + (1-\\lambda_{proj})\\bm x_{ext}.$$\n",
    "\n",
    "### Method of Alternating Projections\n",
    "The method of alternating projections produces a sequence of orthogonal projections onto the violated constraints:\n",
    "$$\\bm x_{i}^{(n+1)} = \\bm x_i^{(n)} - \\frac{\\bm A_{j_n}'\\bm x_i^{(n)} - b_j}{||\\bm A_{j_n}||^2}\\bm A_{j_n}$$ \n",
    "\n",
    "where $\\bm A_{j_n}$ takes values from $\\{\\bm A_j\\mid \\bm A_j\\bm x_i \\nleq b_j\\}$.\n",
    "\n"
   ]
  },
  {
   "cell_type": "markdown",
   "metadata": {},
   "source": [
    "## Imports"
   ]
  },
  {
   "cell_type": "code",
   "execution_count": null,
   "metadata": {},
   "outputs": [],
   "source": []
  },
  {
   "cell_type": "markdown",
   "metadata": {},
   "source": [
    "## Constraint Enforcement\n"
   ]
  },
  {
   "cell_type": "code",
   "execution_count": null,
   "metadata": {},
   "outputs": [],
   "source": []
  }
 ],
 "metadata": {
  "kernelspec": {
   "display_name": "Julia 1.11.1",
   "language": "julia",
   "name": "julia-1.11"
  },
  "language_info": {
   "name": "julia"
  }
 },
 "nbformat": 4,
 "nbformat_minor": 2
}
