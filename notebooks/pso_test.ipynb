{
 "cells": [
  {
   "cell_type": "markdown",
   "metadata": {},
   "source": [
    "## TODO\n",
    "- Social graph\n",
    "- Simplex geometry\n",
    "- Simplex sampler\n",
    "- Other optimality criteria\n",
    "- Same RNG for all rand() calls"
   ]
  },
  {
   "cell_type": "code",
   "execution_count": 115,
   "metadata": {},
   "outputs": [
    {
     "name": "stderr",
     "output_type": "stream",
     "text": [
      "WARNING: replacing module PSO.\n",
      "WARNING: replacing module OptimalityCriteria.\n",
      "WARNING: replacing module Designs.\n",
      "WARNING: replacing module TensorOps.\n",
      "WARNING: using TensorOps.squeeze in module Main conflicts with an existing identifier.\n"
     ]
    }
   ],
   "source": [
    "include(\"./pso.jl\")\n",
    "using .PSO\n",
    "\n",
    "include(\"../../src/optim/optimality_criteria.jl\")\n",
    "using .OptimalityCriteria\n",
    "\n",
    "include(\"../../src/doe/designs.jl\")\n",
    "using .Designs\n",
    "\n",
    "include(\"../../src/util/tensor_ops.jl\")\n",
    "using .TensorOps"
   ]
  },
  {
   "cell_type": "code",
   "execution_count": 193,
   "metadata": {},
   "outputs": [
    {
     "data": {
      "text/plain": [
       "500"
      ]
     },
     "execution_count": 193,
     "metadata": {},
     "output_type": "execute_result"
    }
   ],
   "source": [
    "# Parameters\n",
    "N = 9\n",
    "K = 3\n",
    "S = 150\n",
    "max_iter = 5\n",
    "relTol = 0\n",
    "maxStag = 500"
   ]
  },
  {
   "cell_type": "code",
   "execution_count": 194,
   "metadata": {},
   "outputs": [
    {
     "data": {
      "text/plain": [
       "Main.PSO.PSOTypes.RunnerParams(5, 500, 0.0)"
      ]
     },
     "execution_count": 194,
     "metadata": {},
     "output_type": "execute_result"
    }
   ],
   "source": [
    "# Define experimental optimization problem\n",
    "initializer = Designs.initialize_hypercube(N, K)\n",
    "constraints = PSO.hypercube_constraints()\n",
    "objective = OptimalityCriteria.D\n",
    "\n",
    "# Define PSO and simulation runner parameters\n",
    "pso_params = PSO.default_hyperparams()\n",
    "runner_params = PSO.runner_params(max_iter, maxStag, relTol)"
   ]
  },
  {
   "cell_type": "code",
   "execution_count": 195,
   "metadata": {},
   "outputs": [
    {
     "name": "stdout",
     "output_type": "stream",
     "text": [
      "Iteration: 1, Best score: 0.013301779696816902\n",
      "Iteration: 2, Best score: 0.005701163900705826\n",
      "Iteration: 3, Best score: 0.005701163900705826\n",
      "Iteration: 4, Best score: 0.005701163900705826\n",
      "Iteration: 5, Best score: 0.005701163900705826\n"
     ]
    },
    {
     "data": {
      "text/plain": [
       "Main.PSO.PSOTypes.RunnerState(Main.PSO.PSOTypes.Swarm(Main.PSO.PSOTypes.ParticleState([1.0 0.435962441121743 … 0.03195473065852045 -0.8107598762778794; 0.2185600007352564 -0.5669066256317447 … 0.43534819214427856 0.05228874490306035; … ; 0.6769859313067228 1.0 … 0.0615113280104137 0.018822761161261914; 0.8830163896076 0.9598084178090108 … 0.16290179692733942 -1.0;;; 1.0 -0.07138697748061199 … 0.6268087232328707 0.21668232896869377; 0.10434045527192182 0.0763954297160866 … 0.42289423667750226 0.3332138044065053; … ; 1.0 -0.5036659922424886 … 0.3014756125092256 0.41858994061405524; 0.7264419680172665 -0.22725982171938475 … -0.08839997287109858 0.34446139883367055;;; -0.05106558822015361 -0.9493053977171266 … 0.571358186054177 -0.972513927254461; -0.5093740232223626 -0.8457784680250056 … 0.5957065914878596 -0.5105191874867502; … ; -0.5509241446271065 -0.3782492182994027 … 0.9932206622360695 0.11567976332583518; -0.6143430194149987 -0.5947757921818166 … 0.9021087814460367 -0.48156113872046763], [0.19021557494039765 -0.25887342994280493 … 0.05928831437236837 0.18924012372212057; -0.10455625347793562 0.1492391996559207 … 0.7399259024967029 0.19717445615436946; … ; -0.24677587861210593 0.9548864092714228 … 0.17923021875556314 1.018822761161262; 0.571576692980393 0.012284079264170352 … 0.3777507935896123 -0.08109324804938005;;; 0.25102990165844286 0.018457613232717412 … 0.08566530690359703 -0.17562949496542546; -0.8956595447280782 0.3520390189875947 … 0.5151393266680775 0.450694862047483; … ; 0.562657829977749 -0.18996598282323185 … 0.6730615682991776 0.3541129889758068; 0.960272454129625 -0.2931935552168975 … -0.40944704716172836 -0.34481108316814113;;; -0.29321582990684225 -0.6587150628537743 … 0.10180077760155404 0.027486072745538992; 0.3051787212107625 -0.9607876062858492 … 0.39010867509060526 -0.6686195246745985; … ; -0.12836341387634903 -0.2696905349739308 … 1.6017512677967465 0.23914737181949308; 0.3856569805850013 0.40522420781818336 … -0.09789121855396338 0.28292741701193785]), sparse([1, 37, 55, 90, 2, 26, 80, 3, 53, 1  …  99, 26, 32, 43, 47, 69, 84, 89, 98, 100], [1, 1, 1, 1, 2, 2, 2, 3, 3, 4  …  99, 100, 100, 100, 100, 100, 100, 100, 100, 100], Bool[1, 1, 1, 1, 1, 1, 1, 1, 1, 1  …  1, 1, 1, 1, 1, 1, 1, 1, 1, 1], 100, 100), Main.PSO.PSOTypes.ParticleFitness([0.020182710359796605, 0.29505995041217836, 0.02318161722430075, 0.016378698245106363, 0.02180412435723634, 0.04924782448019726, 0.03486141583967886, 0.0921267685957291, 0.05833144490763689, 0.026266657399376704  …  0.16656549815740856, 0.010122371082599939, 0.033089181038825, 0.07185070963645068, 0.051152820495524526, 0.046497576679544926, 0.048553132218975406, 0.03451503835497837, 0.056666108268214395, 0.07370247987745952], Main.OptimalityCriteria.D), Main.PSO.PSOTypes.ParticleMemory([0.8266564909082353 1.0 … -0.05346884161308746 -1.0; 0.7198901637447574 -0.8758588450023108 … -0.4170257294100681 -0.08291562355199855; … ; 0.9848667440997321 -0.3899255490299689 … -0.2100979075613918 0.4564773116972318; 0.7798381021889884 1.0 … -0.2839693483660207 -1.0;;; 1.0 -0.5713455566738966 … 0.4646009727928333 1.0; 0.5157574754179788 -0.4586191422981287 … 0.4603271146593828 -0.6978712920191579; … ; 0.9690392144932616 -0.9040029377704553 … 0.08045817390735599 -0.11027549834389117; 0.5117982705099744 0.97135168250942 … 0.6893066754934697 0.2628835798878121;;; 0.11449598744298811 0.056234153449965185 … 0.8728081048086124 -1.0; -0.4349878812447474 0.7029046382063693 … 0.5768257248500692 -0.23049785404700618; … ; -0.4453518531762146 0.1930668883357649 … -0.8856541244497715 -0.24890871699993466; -0.7735199303739135 -1.0 … 0.6713815911678244 -0.25468518360387493], [0.014912995325995165, 0.027579969527365772, 0.02038265252051038, 0.016378698245106363, 0.01883463149172367, 0.01338054940728727, 0.013190077006247799, 0.02508510578997636, 0.01178956755724899, 0.005701163900705826  …  0.014132871268670676, 0.010122371082599939, 0.033089181038825, 0.01387510109994155, 0.01368461888633081, 0.01887332919820595, 0.022676018027063195, 0.015237943849207137, 0.029671406771178795, 0.020351963576667215], [1.0 1.0 -0.4036543785839925; 1.0 -0.3682603632313229 -0.7295273296455528; … ; 0.19960187298544763 0.7846041020294408 0.8500384644309975; -1.0 0.8150614319486189 -1.0], 0.005701163900705826), Main.PSO.PSOTypes.HyperParams(100, 0.7213475204444817, 1.1931471805599454, 1.1931471805599454, 3), Main.PSO.var\"#4#5\"{Int64, Int64}(-1, 1)), 5, 3)"
      ]
     },
     "execution_count": 195,
     "metadata": {},
     "output_type": "execute_result"
    }
   ],
   "source": [
    "swarm = PSO.initialize_swarm(initializer, objective, constraints, pso_params)\n",
    "final_state = PSO.optimize(swarm, runner_params)"
   ]
  },
  {
   "cell_type": "code",
   "execution_count": 196,
   "metadata": {},
   "outputs": [
    {
     "name": "stdout",
     "output_type": "stream",
     "text": [
      "Iteration: 1, Best score: 0.005701163900705826\n",
      "Iteration: 2, Best score: 0.005701163900705826\n",
      "Iteration: 3, Best score: 0.005701163900705826\n",
      "Iteration: 4, Best score: 0.005701163900705826\n",
      "Iteration: 5, Best score: 0.005701163900705826\n"
     ]
    },
    {
     "data": {
      "text/plain": [
       "0.005701163900705826"
      ]
     },
     "execution_count": 196,
     "metadata": {},
     "output_type": "execute_result"
    }
   ],
   "source": [
    "final_state = PSO.optimize(final_state.swarm, runner_params)\n",
    "optimal_design, fitness_score = PSO.get_result(final_state)\n",
    "fitness_score"
   ]
  },
  {
   "cell_type": "code",
   "execution_count": 197,
   "metadata": {},
   "outputs": [
    {
     "data": {
      "text/plain": [
       "9×3 Matrix{Float64}:\n",
       "  1.0        1.0       -0.403654\n",
       "  1.0       -0.36826   -0.729527\n",
       " -0.45228   -1.0       -1.0\n",
       " -0.951168   1.0        0.857211\n",
       "  0.21222    0.483791   1.0\n",
       "  0.190712  -0.980055   0.125976\n",
       "  0.753826  -1.0        1.0\n",
       "  0.199602   0.784604   0.850038\n",
       " -1.0        0.815061  -1.0"
      ]
     },
     "execution_count": 197,
     "metadata": {},
     "output_type": "execute_result"
    }
   ],
   "source": [
    "optimal_design"
   ]
  },
  {
   "cell_type": "markdown",
   "metadata": {},
   "source": [
    "## Social"
   ]
  },
  {
   "cell_type": "code",
   "execution_count": 227,
   "metadata": {},
   "outputs": [
    {
     "data": {
      "text/plain": [
       "3"
      ]
     },
     "execution_count": 227,
     "metadata": {},
     "output_type": "execute_result"
    }
   ],
   "source": [
    "S = 3"
   ]
  },
  {
   "cell_type": "code",
   "execution_count": 253,
   "metadata": {},
   "outputs": [
    {
     "data": {
      "text/plain": [
       "3-element Vector{Float64}:\n",
       " 0.1\n",
       " 0.2\n",
       " 0.3"
      ]
     },
     "execution_count": 253,
     "metadata": {},
     "output_type": "execute_result"
    }
   ],
   "source": [
    "scores = vec([.1, .2, .3])"
   ]
  },
  {
   "cell_type": "code",
   "execution_count": 252,
   "metadata": {},
   "outputs": [
    {
     "data": {
      "text/plain": [
       "3×3 SparseMatrixCSC{Bool, Int64} with 5 stored entries:\n",
       " 1  ⋅  1\n",
       " ⋅  1  1\n",
       " ⋅  ⋅  1"
      ]
     },
     "execution_count": 252,
     "metadata": {},
     "output_type": "execute_result"
    }
   ],
   "source": [
    "neighbs = PSO.create_adjacency_matrix(S, 1)"
   ]
  },
  {
   "cell_type": "code",
   "execution_count": 254,
   "metadata": {},
   "outputs": [
    {
     "data": {
      "text/plain": [
       "3×3 SparseMatrixCSC{Float64, Int64} with 9 stored entries:\n",
       " 0.25  0.0  0.75\n",
       " 0.0   0.4  0.6\n",
       " 0.0   0.0  1.0"
      ]
     },
     "execution_count": 254,
     "metadata": {},
     "output_type": "execute_result"
    }
   ],
   "source": [
    "neighbor_scores = neighbs .* transpose(scores)\n",
    "normalized_neighbor_scores = neighbor_scores ./ sum(neighbor_scores, dims=2)"
   ]
  },
  {
   "cell_type": "code",
   "execution_count": 276,
   "metadata": {},
   "outputs": [
    {
     "data": {
      "text/plain": [
       "3×3×2 Array{Float64, 3}:\n",
       "[:, :, 1] =\n",
       " 0.25  0.0  0.75\n",
       " 0.0   0.4  0.6\n",
       " 0.0   0.0  1.0\n",
       "\n",
       "[:, :, 2] =\n",
       " 0.25  0.0  0.75\n",
       " 0.0   0.4  0.6\n",
       " 0.0   0.0  1.0"
      ]
     },
     "execution_count": 276,
     "metadata": {},
     "output_type": "execute_result"
    }
   ],
   "source": [
    "velocity .* reshape(normalized_neighbor_scores, S, S, 1)"
   ]
  },
  {
   "cell_type": "code",
   "execution_count": 290,
   "metadata": {},
   "outputs": [
    {
     "data": {
      "text/plain": [
       "(3, 3, 2)"
      ]
     },
     "execution_count": 290,
     "metadata": {},
     "output_type": "execute_result"
    }
   ],
   "source": [
    "size(velocity)"
   ]
  },
  {
   "cell_type": "code",
   "execution_count": 305,
   "metadata": {},
   "outputs": [],
   "source": [
    "result = Array{Float64}(undef, S, S, N, K)\n",
    "\n",
    "# Apply the adjacency matrix to each slice\n",
    "for (k, r) in enumerate(eachrow(normalized_neighbor_scores))\n",
    "   tmp = velocity .* r\n",
    "    result[k, :, :, :] = tmp\n",
    "end"
   ]
  },
  {
   "cell_type": "code",
   "execution_count": 309,
   "metadata": {},
   "outputs": [
    {
     "data": {
      "text/plain": [
       "3×2 Matrix{Float64}:\n",
       " 0.75  0.75\n",
       " 0.75  0.75\n",
       " 0.75  0.75"
      ]
     },
     "execution_count": 309,
     "metadata": {},
     "output_type": "execute_result"
    }
   ],
   "source": [
    "result[1, 3, :, :]"
   ]
  },
  {
   "cell_type": "code",
   "execution_count": null,
   "metadata": {},
   "outputs": [],
   "source": []
  }
 ],
 "metadata": {
  "kernelspec": {
   "display_name": "Julia 1.11.1",
   "language": "julia",
   "name": "julia-1.11"
  },
  "language_info": {
   "file_extension": ".jl",
   "mimetype": "application/julia",
   "name": "julia",
   "version": "1.11.1"
  }
 },
 "nbformat": 4,
 "nbformat_minor": 2
}
