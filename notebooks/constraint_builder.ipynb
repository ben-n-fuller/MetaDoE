{
 "cells": [
  {
   "cell_type": "code",
   "execution_count": 2,
   "metadata": {},
   "outputs": [],
   "source": [
    "include(\"./constraint_types.jl\")\n",
    "using .ConstraintTypes: LinearConstraints, NoConstraints\n",
    "\n",
    "using Statistics\n",
    "using LinearAlgebra\n",
    "using MLStyle"
   ]
  },
  {
   "cell_type": "code",
   "execution_count": 3,
   "metadata": {},
   "outputs": [
    {
     "data": {
      "text/plain": [
       "([1 0 0 0; 0 1 0 0; … ; 0 0 -1 0; 0 0 0 -1], [1.0, 1.0, 1.0, 1.0, 0.0, 0.0, 0.0, 0.0])"
      ]
     },
     "execution_count": 3,
     "metadata": {},
     "output_type": "execute_result"
    }
   ],
   "source": [
    "function unit_hypercube_constraints(d)\n",
    "    A = [ Matrix(I, d, d); -Matrix(I, d, d) ]\n",
    "    b = [ ones(d); zeros(d) ]\n",
    "    return A, b\n",
    "end\n",
    "A, b = unit_hypercube_constraints(4)"
   ]
  },
  {
   "cell_type": "code",
   "execution_count": 4,
   "metadata": {},
   "outputs": [
    {
     "data": {
      "text/plain": [
       "LinearConstraints([1.0 0.0 0.0 0.0; 0.0 1.0 0.0 0.0; … ; 0.0 0.0 -1.0 0.0; 0.0 0.0 0.0 -1.0], [1.0, 1.0, 1.0, 1.0, 0.0, 0.0, 0.0, 0.0])"
      ]
     },
     "execution_count": 4,
     "metadata": {},
     "output_type": "execute_result"
    }
   ],
   "source": [
    "constraints = ConstraintTypes.LinearConstraints(A, b)"
   ]
  },
  {
   "cell_type": "markdown",
   "metadata": {},
   "source": [
    "# Constraint Builder\n",
    "As a brief aside, I would like to make it easier to build constraints, with the builder producing a `LinearConstraint` object, along with the specific constraint enforcement mechanism. So ultimately I will have an enforcer and a constraint. There are three general types of constraints:\n",
    "- Interval: lower and upper bounds\n",
    "- Ratio: relationships between constraints\n",
    "\n",
    "The user should start by defining a list of names for their experimental factors."
   ]
  },
  {
   "cell_type": "code",
   "execution_count": 5,
   "metadata": {},
   "outputs": [
    {
     "data": {
      "text/plain": [
       "3-element Vector{String}:\n",
       " \"factor 1\"\n",
       " \"factor 2\"\n",
       " \"factor 3\""
      ]
     },
     "execution_count": 5,
     "metadata": {},
     "output_type": "execute_result"
    }
   ],
   "source": [
    "# Convert to dictionary \n",
    "factors = [\n",
    "    \"factor 1\",\n",
    "    \"factor 2\",\n",
    "    \"factor 3\"\n",
    "]"
   ]
  },
  {
   "cell_type": "code",
   "execution_count": 6,
   "metadata": {},
   "outputs": [],
   "source": [
    "struct Experiment\n",
    "    factors::Dict{String, Int64}\n",
    "    constraints::ConstraintTypes.Constraints\n",
    "    N::Int64 \n",
    "    K::Int64 \n",
    "end"
   ]
  },
  {
   "cell_type": "code",
   "execution_count": 7,
   "metadata": {},
   "outputs": [
    {
     "data": {
      "text/plain": [
       "make_experiment (generic function with 1 method)"
      ]
     },
     "execution_count": 7,
     "metadata": {},
     "output_type": "execute_result"
    }
   ],
   "source": [
    "function make_experiment(factors::Vector{String}, N::Int64, K::Int64)\n",
    "    factor_dict = Dict(f => i for (i, f) in enumerate(factors))\n",
    "    return Experiment(factor_dict, ConstraintTypes.NoConstraints(), N, K)\n",
    "end"
   ]
  },
  {
   "cell_type": "code",
   "execution_count": 12,
   "metadata": {},
   "outputs": [
    {
     "data": {
      "text/plain": [
       "with_linear_constraint (generic function with 1 method)"
      ]
     },
     "execution_count": 12,
     "metadata": {},
     "output_type": "execute_result"
    }
   ],
   "source": [
    "function with_interval_constraint(exp::Experiment, factor::String, lower::Float64, upper::Float64)\n",
    "    factor_index = exp.factors[factor]\n",
    "    lower_bound_row = zeros(exp.K)\n",
    "    upper_bound_row = zeros(exp.K)\n",
    "    lower_bound_row[factor_index] = 1\n",
    "    upper_bound_row[factor_index] = -1\n",
    "\n",
    "    @match exp.constraints begin\n",
    "        ConstraintTypes.LinearConstraints(A, b) => begin\n",
    "            new_A = vcat(A, lower_bound_row', upper_bound_row')\n",
    "            new_b = vcat(b, lower, -upper)\n",
    "            new_constraints = ConstraintTypes.LinearConstraints(new_A, new_b)\n",
    "            Experiment(exp.factors, new_constraints, exp.N, exp.K)\n",
    "        end\n",
    "\n",
    "        ConstraintTypes.NoConstraints() => begin\n",
    "            new_A = vcat(lower_bound_row', upper_bound_row')\n",
    "            new_b = [lower, -upper]\n",
    "            new_constraints = ConstraintTypes.LinearConstraints(new_A, new_b)\n",
    "            Experiment(exp.factors, new_constraints, exp.N, exp.K)\n",
    "        end\n",
    "\n",
    "        _ => error(\"Unsupported constraint type: $(typeof(exp.constraints))\")\n",
    "    end\n",
    "end\n",
    "\n",
    "function with_factor_ratio(exp::Experiment, factor_1::String, factor_2::String, ratio::Float64)\n",
    "    factor1_index = exp.factors[factor_1]\n",
    "    factor2_index = exp.factors[factor_2]\n",
    "\n",
    "    row = zeros(exp.K)\n",
    "    row[factor1_index] = 1\n",
    "    row[factor2_index] = -ratio\n",
    "\n",
    "    @match exp.constraints begin\n",
    "        ConstraintTypes.LinearConstraints(A, b) => begin\n",
    "            new_A = vcat(A, row')\n",
    "            new_b = vcat(b, 0.0)\n",
    "            new_constraints = ConstraintTypes.LinearConstraints(new_A, new_b)\n",
    "            Experiment(exp.factors, new_constraints, exp.N, exp.K)\n",
    "        end\n",
    "\n",
    "        ConstraintTypes.NoConstraints() => begin\n",
    "            new_A = row'\n",
    "            new_b = [0.0]\n",
    "            new_constraints = ConstraintTypes.LinearConstraints(new_A, new_b)\n",
    "            Experiment(exp.factors, new_constraints, exp.N, exp.K)\n",
    "        end\n",
    "\n",
    "        _ => error(\"Unsupported constraint type: $(typeof(exp.constraints))\")\n",
    "    end\n",
    "end\n",
    "\n",
    "function with_linear_constraint(exp::Experiment, constraint::Vector{Float64}, bound::Float64)\n",
    "    @assert length(constraint) == exp.K \"Constraint vector must have length equal to number of factors (K = $(exp.K))\"\n",
    "\n",
    "    @match exp.constraints begin\n",
    "        ConstraintTypes.LinearConstraints(A, b) => begin\n",
    "            new_A = vcat(A, constraint')\n",
    "            new_b = vcat(b, bound)\n",
    "            new_constraints = ConstraintTypes.LinearConstraints(new_A, new_b)\n",
    "            Experiment(exp.factors, new_constraints, exp.N, exp.K)\n",
    "        end\n",
    "\n",
    "        ConstraintTypes.NoConstraints() => begin\n",
    "            new_A = constraint'\n",
    "            new_b = [bound]\n",
    "            new_constraints = ConstraintTypes.LinearConstraints(new_A, new_b)\n",
    "            Experiment(exp.factors, new_constraints, exp.N, exp.K)\n",
    "        end\n",
    "\n",
    "        _ => error(\"Unsupported constraint type: $(typeof(exp.constraints))\")\n",
    "    end\n",
    "end\n",
    "\n",
    "function with_linear_constraint(exp::Experiment, constraint::Array{Float64, 2}, bound::Vector{Float64})\n",
    "    @assert size(constraint, 2) == exp.K \"Constraint matrix must have K columns (K = $(exp.K))\"\n",
    "    @assert size(constraint, 1) == length(bound) \"Number of rows in constraint matrix must match length of bound vector\"\n",
    "\n",
    "    @match exp.constraints begin\n",
    "        ConstraintTypes.LinearConstraints(A, b) => begin\n",
    "            new_A = vcat(A, constraint)\n",
    "            new_b = vcat(b, bound)\n",
    "            new_constraints = ConstraintTypes.LinearConstraints(new_A, new_b)\n",
    "            Experiment(exp.factors, new_constraints, exp.N, exp.K)\n",
    "        end\n",
    "\n",
    "        ConstraintTypes.NoConstraints() => begin\n",
    "            new_constraints = ConstraintTypes.LinearConstraints(constraint, bound)\n",
    "            Experiment(exp.factors, new_constraints, exp.N, exp.K)\n",
    "        end\n",
    "\n",
    "        _ => error(\"Unsupported constraint type: $(typeof(exp.constraints))\")\n",
    "    end\n",
    "end\n"
   ]
  },
  {
   "cell_type": "code",
   "execution_count": 13,
   "metadata": {},
   "outputs": [
    {
     "data": {
      "text/plain": [
       "Experiment(Dict(\"factor 3\" => 3, \"factor 1\" => 1, \"factor 2\" => 2), LinearConstraints([1.0 0.0 0.0; -1.0 0.0 0.0; … ; 0.0 -1.0 0.0; 1.0 -2.5 0.0], [0.0, -10.0, 0.5, -1.5, 0.0]), 7, 3)"
      ]
     },
     "execution_count": 13,
     "metadata": {},
     "output_type": "execute_result"
    }
   ],
   "source": [
    " factors = [\n",
    "    \"factor 1\",\n",
    "    \"factor 2\",\n",
    "    \"factor 3\"\n",
    "]\n",
    "\n",
    "exp = make_experiment(factors, 7, 3)\n",
    "exp = with_interval_constraint(exp, \"factor 1\", 0.0, 10.0)\n",
    "exp = with_interval_constraint(exp, \"factor 2\", 0.5, 1.5)\n",
    "exp = with_factor_ratio(exp, \"factor 1\", \"factor 2\", 2.5)"
   ]
  }
 ],
 "metadata": {
  "kernelspec": {
   "display_name": "Julia 1.11.4",
   "language": "julia",
   "name": "julia-1.11"
  },
  "language_info": {
   "file_extension": ".jl",
   "mimetype": "application/julia",
   "name": "julia",
   "version": "1.11.4"
  }
 },
 "nbformat": 4,
 "nbformat_minor": 2
}
