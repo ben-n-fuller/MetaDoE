{
 "cells": [
  {
   "cell_type": "markdown",
   "metadata": {},
   "source": [
    "In general, there are three types of constraints:\n",
    "- Constraint repair\n",
    "- Penalty methods\n",
    "- Feasibility-preserving operations\n",
    "\n",
    "From an implementation standpoint, constraint repair takes the updated particles at time $t$ and applies some function that modifies the particle positions to be enforce feasibility. Penalty methods instead modify the computed objective score after the particle position update as a function of the new positions and the constraints. Finally, feasibility-preserving operations overload the algebraic operations (addition and multiplication) to guarantee feasibility (e.g., using the Aitchison geometry to enforce sum-to-one constraints). "
   ]
  },
  {
   "cell_type": "code",
   "execution_count": 129,
   "metadata": {},
   "outputs": [
    {
     "name": "stderr",
     "output_type": "stream",
     "text": [
      "WARNING: replacing module MetaDoE.\n",
      "WARNING: ignoring conflicting import of MetaDoE.Experiments into Main\n",
      "WARNING: ignoring conflicting import of MetaDoE.ConstraintEnforcement into Main\n",
      "WARNING: ignoring conflicting import of MetaDoE.PSO into Main\n",
      "WARNING: ignoring conflicting import of MetaDoE.Objectives into Main\n",
      "WARNING: ignoring conflicting import of MetaDoE.Designs into Main\n"
     ]
    }
   ],
   "source": [
    "include(\"./src/MetaDoE.jl\")\n",
    "using .MetaDoE: Experiments, ConstraintEnforcement, PSO, Objectives, Designs\n",
    "using LinearAlgebra\n",
    "using NPZ"
   ]
  },
  {
   "cell_type": "code",
   "execution_count": 130,
   "metadata": {},
   "outputs": [
    {
     "data": {
      "text/plain": [
       "hypercube_constraints (generic function with 1 method)"
      ]
     },
     "execution_count": 130,
     "metadata": {},
     "output_type": "execute_result"
    }
   ],
   "source": [
    "function unit_hypercube_constraints(d::Int)\n",
    "    I_d = Matrix{Float64}(I, d, d)\n",
    "    A = vcat(I_d, -I_d)\n",
    "    b = vcat(ones(d), zeros(d))\n",
    "    return A, b\n",
    "end\n",
    "\n",
    "function hypercube_constraints(n::Int, k::Real)\n",
    "    I_n = Matrix{Float64}(I, n, n)\n",
    "    A = vcat(I_n, -I_n)\n",
    "    b = vcat(fill(Float64(k), n), fill(Float64(k), n))\n",
    "    return A, b\n",
    "end\n"
   ]
  },
  {
   "cell_type": "code",
   "execution_count": 152,
   "metadata": {},
   "outputs": [
    {
     "data": {
      "text/plain": [
       "8-element Vector{Float64}:\n",
       " 100.0\n",
       " 100.0\n",
       " 100.0\n",
       " 100.0\n",
       " 100.0\n",
       " 100.0\n",
       "   0.0\n",
       "   0.0"
      ]
     },
     "execution_count": 152,
     "metadata": {},
     "output_type": "execute_result"
    }
   ],
   "source": [
    "A, b = hypercube_constraints(3, 100)\n",
    "experiment = Experiments.create(1, 3)\n",
    "experiment = Experiments.with_linear_constraints(experiment, A, b)\n",
    "experiment = Experiments.with_factor_ratio(experiment, 2, 3, 2.0)\n",
    "experiment = Experiments.with_factor_ratio(experiment, 1, 3, 2.0)\n",
    "A = copy(experiment.constraints.A)\n",
    "b = Float64.([100, 100, 100, 100, 100, 100, 0, 0])"
   ]
  },
  {
   "cell_type": "code",
   "execution_count": 132,
   "metadata": {},
   "outputs": [
    {
     "name": "stdout",
     "output_type": "stream",
     "text": [
      "Running HiGHS 1.8.0 (git hash: fcfb534146): Copyright (c) 2024 HiGHS under MIT licence terms\n",
      "Coefficient ranges:\n",
      "  Matrix [1e+00, 1e+02]\n",
      "  Cost   [0e+00, 0e+00]\n",
      "  Bound  [0e+00, 0e+00]\n",
      "  RHS    [1e+00, 1e+00]\n",
      "Presolving model\n",
      "Problem status detected on presolve: Infeasible\n",
      "Model   status      : Infeasible\n",
      "Objective value     :  0.0000000000e+00\n",
      "HiGHS run time      :          0.00\n",
      "ERROR:   No LP invertible representation for getDualRay\n",
      "Running HiGHS 1.8.0 (git hash: fcfb534146): Copyright (c) 2024 HiGHS under MIT licence terms\n",
      "Coefficient ranges:\n",
      "  Matrix [1e+00, 2e+00]\n",
      "  Cost   [1e+00, 1e+00]\n",
      "  Bound  [0e+00, 0e+00]\n",
      "  RHS    [1e+02, 1e+02]\n",
      "Presolving model\n",
      "8 rows, 4 cols, 18 nonzeros  0s\n",
      "0 rows, 1 cols, 0 nonzeros  0s\n",
      "0 rows, 0 cols, 0 nonzeros  0s\n",
      "Presolve : Reductions: rows 0(-8); columns 0(-4); elements 0(-18) - Reduced to empty\n",
      "Solving the original LP from the solution after postsolve\n",
      "Model   status      : Optimal\n",
      "Objective value     :  5.7294901688e+01\n",
      "HiGHS run time      :          0.00\n",
      "Running HiGHS 1.8.0 (git hash: fcfb534146): Copyright (c) 2024 HiGHS under MIT licence terms\n",
      "Coefficient ranges:\n",
      "  Matrix [1e+00, 1e+02]\n",
      "  Cost   [0e+00, 0e+00]\n",
      "  Bound  [0e+00, 0e+00]\n",
      "  RHS    [1e+00, 1e+00]\n",
      "Presolving model\n",
      "5 rows, 8 cols, 26 nonzeros  0s\n",
      "2 rows, 5 cols, 8 nonzeros  0s\n",
      "0 rows, 0 cols, 0 nonzeros  0s\n",
      "Presolve : Reductions: rows 0(-5); columns 0(-8); elements 0(-26) - Reduced to empty\n",
      "Solving the original LP from the solution after postsolve\n",
      "Model   status      : Optimal\n",
      "Objective value     :  0.0000000000e+00\n",
      "HiGHS run time      :          0.00\n",
      "Coefficient ranges:\n",
      "  Matrix [1e+00, 1e+02]\n",
      "  Cost   [0e+00, 0e+00]\n",
      "  Bound  [0e+00, 0e+00]\n",
      "  RHS    [1e+00, 1e+00]\n",
      "Solving LP without presolve, or with basis, or unconstrained\n",
      "Using EKK dual simplex solver - serial\n",
      "  Iteration        Objective     Infeasibilities num(sum)\n",
      "          0     5.0860584734e-06 Pr: 2(13.3381); Du: 0(7.79614e-08) 0s\n",
      "          2     0.0000000000e+00 Pr: 0(0) 0s\n",
      "Model   status      : Optimal\n",
      "Simplex   iterations: 2\n",
      "Objective value     :  0.0000000000e+00\n",
      "HiGHS run time      :          0.00\n",
      "Coefficient ranges:\n",
      "  Matrix [1e+00, 1e+02]\n",
      "  Cost   [0e+00, 0e+00]\n",
      "  Bound  [0e+00, 0e+00]\n",
      "  RHS    [1e+00, 1e+00]\n",
      "Solving LP without presolve, or with basis, or unconstrained\n",
      "Using EKK dual simplex solver - serial\n",
      "  Iteration        Objective     Infeasibilities num(sum)\n",
      "          0     5.0204620002e-06 Pr: 1(16); Du: 0(6.15614e-08) 0s\n",
      "          0     5.0204620002e-06 0s\n",
      "Model   status      : Infeasible\n",
      "Objective value     :  0.0000000000e+00\n",
      "HiGHS run time      :          0.00\n"
     ]
    },
    {
     "data": {
      "text/plain": [
       "Main.MetaDoE.PSO.OptimizationContext(Main.MetaDoE.PSO.Swarm(Main.MetaDoE.PSO.ParticleState([3.3336697437015133; 11.12016751839908; … ; -50.363897102659635; -44.48516385543744;;; 32.26217654001104; 45.19025473063888; … ; -76.84879734669997; -79.12249200106494;;; 30.4360628587781; 52.261796008528634; … ; 66.54765596929076; 68.65703339425971], [59.97772170465628; 1.449161762970725; … ; -20.508512694899117; -45.70831754835076;;; 1.1032131934501805; -64.52746649776063; … ; -34.28006632717358; -34.94725831622862;;; 61.789642807355946; 43.69543015704352; … ; 25.36450465160826; 22.250139092901406]), sparse([1, 18, 2, 28, 73, 3, 89, 94, 4, 5  …  88, 98, 32, 52, 94, 99, 13, 40, 93, 100], [1, 1, 2, 2, 2, 3, 3, 3, 4, 5  …  98, 98, 99, 99, 99, 99, 100, 100, 100, 100], Bool[1, 1, 1, 1, 1, 1, 1, 1, 1, 1  …  1, 1, 1, 1, 1, 1, 1, 1, 1, 1], 100, 100), Main.MetaDoE.PSO.ParticleFitness([1.3011768172531588, 2.189884536599198, 2.457819316575816, 3.444434777197756, 3.183891265917591, 4.157157039727868, 4.338051535120551, 4.1623886538958805, 3.597135292035445, 4.736892497735891  …  2.546377201684856, 4.825355060263153, 5.083690748539957, 4.079092559911325, 2.952878177942564, 2.4849611580043898, 5.5790115052841625, 4.135146886869617, 4.662194355318039, 4.499161572476145]), Main.MetaDoE.PSO.ParticleMemory([3.3336697437015133; 11.12016751839908; … ; -50.363897102659635; -44.48516385543744;;; 32.26217654001104; 45.19025473063888; … ; -76.84879734669997; -79.12249200106494;;; 30.4360628587781; 52.261796008528634; … ; 66.54765596929076; 68.65703339425971], [3.3336697437015133; 11.12016751839908; … ; -50.363897102659635; -44.48516385543744;;; 32.26217654001104; 45.19025473063888; … ; -76.84879734669997; -79.12249200106494;;; 30.4360628587781; 52.261796008528634; … ; 66.54765596929076; 68.65703339425971], [1.3011768172531588, 2.189884536599198, 2.457819316575816, 3.444434777197756, 3.183891265917591, 4.157157039727868, 4.338051535120551, 4.1623886538958805, 3.597135292035445, 4.736892497735891  …  2.546377201684856, 4.825355060263153, 5.083690748539957, 4.079092559911325, 2.952878177942564, 2.4849611580043898, 5.5790115052841625, 4.135146886869617, 4.662194355318039, 4.499161572476145], [5.6592859283007435 -23.158083491078504 37.6779206313639], 0.8774009904281377), Main.MetaDoE.PSO.HyperParams(100, 0.7213475204444817, 1.1931471805599454, 1.1931471805599454, 3)), Main.MetaDoE.PSO.RunnerParams(1000, 500, 1.0e-6), Main.MetaDoE.PSO.var\"#logger#16\"{Bool, Vector{Any}}(true, Any[]), Main.MetaDoE.PSO.max_iters_or_stagnation, Main.MetaDoE.PSO.update_state_default, Main.MetaDoE.PSO.global_best_improvement, Main.MetaDoE.PSO.Objective(Main.MetaDoE.ConstraintEnforcement.var\"#3#6\"{Main.MetaDoE.ConstraintEnforcement.LinearConstraints}(Main.MetaDoE.ConstraintEnforcement.LinearConstraints([1.0 0.0 0.0; 0.0 1.0 0.0; … ; 0.0 1.0 -2.0; 1.0 0.0 -2.0], [100.0, 100.0, 100.0, 100.0, 100.0, 100.0, 0.0, 0.0])), Main.MetaDoE.PSO.var\"#11#13\"{typeof(Main.MetaDoE.Objectives.griewank)}(Main.MetaDoE.Objectives.griewank)))"
      ]
     },
     "execution_count": 132,
     "metadata": {},
     "output_type": "execute_result"
    }
   ],
   "source": [
    "experiment = Experiments.create(1, 3)\n",
    "experiment = Experiments.with_linear_constraints(experiment, A, b)\n",
    "\n",
    "runner_params = PSO.runner_params(1000, 500, 1e-6)\n",
    "pso_params = PSO.create_hyperparams(100)\n",
    "context = PSO.create_context(\n",
    "    experiment, \n",
    "    Objectives.griewank; \n",
    "    callback = PSO.aggregate_results(;save_world=true), \n",
    "    runner_params=runner_params\n",
    ")"
   ]
  },
  {
   "cell_type": "code",
   "execution_count": 133,
   "metadata": {},
   "outputs": [
    {
     "data": {
      "text/plain": [
       "0.0"
      ]
     },
     "execution_count": 133,
     "metadata": {},
     "output_type": "execute_result"
    }
   ],
   "source": [
    "runner_state, history = PSO.optimize(context)\n",
    "optimizer, optimal_score = PSO.get_optimizer(runner_state)\n",
    "optimal_score"
   ]
  },
  {
   "cell_type": "code",
   "execution_count": 134,
   "metadata": {},
   "outputs": [
    {
     "data": {
      "text/plain": [
       "1×3 Matrix{Float64}:\n",
       " -9.00981e-9  -5.47236e-9  -2.73618e-9"
      ]
     },
     "execution_count": 134,
     "metadata": {},
     "output_type": "execute_result"
    }
   ],
   "source": [
    "optimizer"
   ]
  },
  {
   "cell_type": "code",
   "execution_count": 135,
   "metadata": {},
   "outputs": [
    {
     "data": {
      "text/plain": [
       "save_history (generic function with 1 method)"
      ]
     },
     "execution_count": 135,
     "metadata": {},
     "output_type": "execute_result"
    }
   ],
   "source": [
    "function save_history(history::Vector; location = \"pso_griewank.npy\")\n",
    "    velocities = cat([h.state.velocities for h in history]...; dims=2)\n",
    "    velocities = permutedims(velocities, (2, 1, 3))\n",
    "\n",
    "    positions = cat([h.state.positions for h in history]...; dims=2)\n",
    "    positions = permutedims(positions, (2, 1, 3))\n",
    "\n",
    "    scores = cat([h.fitness.scores for h in history]...; dims=2)'\n",
    "    npzwrite(location, Dict(\"positions\" => positions, \"velocities\" => velocities, \"scores\" => scores))\n",
    "end"
   ]
  },
  {
   "cell_type": "code",
   "execution_count": 136,
   "metadata": {},
   "outputs": [],
   "source": [
    "save_history(history)"
   ]
  },
  {
   "cell_type": "code",
   "execution_count": 137,
   "metadata": {},
   "outputs": [],
   "source": [
    "using CDDLib\n",
    "using Polyhedra"
   ]
  },
  {
   "cell_type": "code",
   "execution_count": 153,
   "metadata": {},
   "outputs": [],
   "source": [
    "get_vertices = (p) -> collect(points(p))\n",
    "\n",
    "p = polyhedron(hrep(A, b), CDDLib.Library())\n",
    "verts = get_vertices(p)\n",
    "verts = hcat(verts...)'\n",
    "npzwrite(\"verts.npy\", verts)"
   ]
  },
  {
   "cell_type": "code",
   "execution_count": 139,
   "metadata": {},
   "outputs": [
    {
     "name": "stdout",
     "output_type": "stream",
     "text": [
      "Running HiGHS 1.8.0 (git hash: fcfb534146): Copyright (c) 2024 HiGHS under MIT licence terms\n",
      "Coefficient ranges:\n",
      "  Matrix [1e+00, 1e+02]\n",
      "  Cost   [0e+00, 0e+00]\n",
      "  Bound  [0e+00, 0e+00]\n",
      "  RHS    [1e+00, 1e+00]\n",
      "Presolving model\n",
      "Problem status detected on presolve: Infeasible\n",
      "Model   status      : Infeasible\n",
      "Objective value     :  0.0000000000e+00\n",
      "HiGHS run time      :          0.00\n",
      "ERROR:   No LP invertible representation for getDualRay\n",
      "Running HiGHS 1.8.0 (git hash: fcfb534146): Copyright (c) 2024 HiGHS under MIT licence terms\n",
      "Coefficient ranges:\n",
      "  Matrix [1e+00, 2e+00]\n",
      "  Cost   [1e+00, 1e+00]\n",
      "  Bound  [0e+00, 0e+00]\n",
      "  RHS    [1e+02, 1e+02]\n",
      "Presolving model\n",
      "8 rows, 4 cols, 18 nonzeros  0s\n",
      "0 rows, 1 cols, 0 nonzeros  0s\n",
      "0 rows, 0 cols, 0 nonzeros  0s\n",
      "Presolve : Reductions: rows 0(-8); columns 0(-4); elements 0(-18) - Reduced to empty\n",
      "Solving the original LP from the solution after postsolve\n",
      "Model   status      : Optimal\n",
      "Objective value     :  5.7294901688e+01\n",
      "HiGHS run time      :          0.00\n",
      "Running HiGHS 1.8.0 (git hash: fcfb534146): Copyright (c) 2024 HiGHS under MIT licence terms\n",
      "Coefficient ranges:\n",
      "  Matrix [1e+00, 1e+02]\n",
      "  Cost   [0e+00, 0e+00]\n",
      "  Bound  [0e+00, 0e+00]\n",
      "  RHS    [1e+00, 1e+00]\n",
      "Presolving model\n",
      "5 rows, 8 cols, 26 nonzeros  0s\n",
      "2 rows, 5 cols, 8 nonzeros  0s\n",
      "0 rows, 0 cols, 0 nonzeros  0s\n",
      "Presolve : Reductions: rows 0(-5); columns 0(-8); elements 0(-26) - Reduced to empty\n",
      "Solving the original LP from the solution after postsolve\n",
      "Model   status      : Optimal\n",
      "Objective value     :  0.0000000000e+00\n",
      "HiGHS run time      :          0.00\n",
      "Coefficient ranges:\n",
      "  Matrix [1e+00, 1e+02]\n",
      "  Cost   [0e+00, 0e+00]\n",
      "  Bound  [0e+00, 0e+00]\n",
      "  RHS    [1e+00, 1e+00]\n",
      "Solving LP without presolve, or with basis, or unconstrained\n",
      "Using EKK dual simplex solver - serial\n",
      "  Iteration        Objective     Infeasibilities num(sum)\n",
      "          0     5.0860584734e-06 Pr: 2(13.3381); Du: 0(7.79614e-08) 0s\n",
      "          2     0.0000000000e+00 Pr: 0(0) 0s\n",
      "Model   status      : Optimal\n",
      "Simplex   iterations: 2\n",
      "Objective value     :  0.0000000000e+00\n",
      "HiGHS run time      :          0.00\n",
      "Coefficient ranges:\n",
      "  Matrix [1e+00, 1e+02]\n",
      "  Cost   [0e+00, 0e+00]\n",
      "  Bound  [0e+00, 0e+00]\n",
      "  RHS    [1e+00, 1e+00]\n",
      "Solving LP without presolve, or with basis, or unconstrained\n",
      "Using EKK dual simplex solver - serial\n",
      "  Iteration        Objective     Infeasibilities num(sum)\n",
      "          0     5.0204620002e-06 Pr: 1(16); Du: 0(6.15614e-08) 0s\n",
      "          0     5.0204620002e-06 0s\n",
      "Model   status      : Infeasible\n",
      "Objective value     :  0.0000000000e+00\n",
      "HiGHS run time      :          0.00\n"
     ]
    },
    {
     "data": {
      "text/plain": [
       "(::Main.MetaDoE.Designs.var\"#sample_constraints#9\"{Random.TaskLocalRNG, Int64, Int64, Matrix{Float64}, Vector{Float64}, Vector{Float64}, Int64, DefaultLibrary{Float64}}) (generic function with 1 method)"
      ]
     },
     "execution_count": 139,
     "metadata": {},
     "output_type": "execute_result"
    }
   ],
   "source": [
    "initializer = Designs.create_initializer(experiment.constraints, experiment.N, experiment.K)"
   ]
  },
  {
   "cell_type": "code",
   "execution_count": 140,
   "metadata": {},
   "outputs": [
    {
     "name": "stderr",
     "output_type": "stream",
     "text": [
      "WARNING: ignoring conflicting import of MetaDoE.TensorOps into Main\n"
     ]
    }
   ],
   "source": [
    "using .MetaDoE: TensorOps"
   ]
  },
  {
   "cell_type": "code",
   "execution_count": 141,
   "metadata": {},
   "outputs": [],
   "source": [
    "npzwrite(\"sample.npy\", TensorOps.squeeze(initializer(10_000)))"
   ]
  },
  {
   "cell_type": "code",
   "execution_count": 142,
   "metadata": {},
   "outputs": [
    {
     "data": {
      "text/plain": [
       "20×3 Matrix{Float64}:\n",
       " -89.8242   -75.3978    -13.5421\n",
       " -94.5611   -86.4025      7.14961\n",
       " -95.2809   -85.6779      8.66902\n",
       " -92.847    -93.5142     10.2761\n",
       " -72.9712   -72.231     -17.2032\n",
       " -88.8963    15.5274     18.6999\n",
       " -93.9559    23.1825     27.0228\n",
       " -93.0755    24.4048     31.2028\n",
       " -71.8728    42.4747     77.1161\n",
       " -39.1076    32.5622     29.1638\n",
       " -75.959      3.73425    14.077\n",
       " -10.1558    -0.811757   63.0794\n",
       " -14.4355   -18.9985     37.983\n",
       " -22.3751    -2.34897    45.8154\n",
       "   4.38389   -2.39669    12.9151\n",
       "  10.9619    68.5332     48.659\n",
       "  13.7542    50.2509     91.3139\n",
       "  14.0083    50.2199     90.7709\n",
       "   9.42835   42.1102     96.5315\n",
       " -10.4615    -2.15378    99.7596"
      ]
     },
     "execution_count": 142,
     "metadata": {},
     "output_type": "execute_result"
    }
   ],
   "source": [
    "TensorOps.squeeze(initializer(20))"
   ]
  }
 ],
 "metadata": {
  "kernelspec": {
   "display_name": "Julia 1.11.4",
   "language": "julia",
   "name": "julia-1.11"
  },
  "language_info": {
   "file_extension": ".jl",
   "mimetype": "application/julia",
   "name": "julia",
   "version": "1.11.4"
  }
 },
 "nbformat": 4,
 "nbformat_minor": 2
}
